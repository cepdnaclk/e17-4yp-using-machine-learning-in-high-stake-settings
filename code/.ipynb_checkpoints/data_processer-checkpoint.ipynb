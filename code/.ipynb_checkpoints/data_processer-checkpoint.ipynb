{
 "cells": [
  {
   "cell_type": "code",
   "execution_count": 2,
   "id": "0145d873",
   "metadata": {
    "scrolled": true
   },
   "outputs": [],
   "source": [
    "import pandas as pd"
   ]
  },
  {
   "cell_type": "code",
   "execution_count": 3,
   "id": "dc8929e3",
   "metadata": {
    "scrolled": true
   },
   "outputs": [],
   "source": [
    "from pandas import Timestamp"
   ]
  },
  {
   "cell_type": "code",
   "execution_count": 4,
   "id": "1c7eb972",
   "metadata": {
    "scrolled": true
   },
   "outputs": [],
   "source": [
    "import numpy as np"
   ]
  },
  {
   "cell_type": "code",
   "execution_count": 5,
   "id": "be28efaa",
   "metadata": {
    "scrolled": true
   },
   "outputs": [],
   "source": [
    "path = \"./data\""
   ]
  },
  {
   "cell_type": "code",
   "execution_count": 6,
   "id": "6f1682ff",
   "metadata": {
    "scrolled": true
   },
   "outputs": [],
   "source": [
    "donations = pd.read_csv(path+\"/Donations.csv\")"
   ]
  },
  {
   "cell_type": "code",
   "execution_count": 7,
   "id": "944bcb7c",
   "metadata": {
    "scrolled": true
   },
   "outputs": [],
   "source": [
    "projects = pd.read_csv(path+\"/Projects.csv\")"
   ]
  },
  {
   "cell_type": "code",
   "execution_count": 8,
   "id": "5c41a563",
   "metadata": {
    "scrolled": true
   },
   "outputs": [
    {
     "name": "stderr",
     "output_type": "stream",
     "text": [
      "/var/folders/yl/9bnyyv317zx6n3nl5t7jy2n80000gn/T/ipykernel_27684/2561930728.py:1: DtypeWarning: Columns (4) have mixed types. Specify dtype option on import or set low_memory=False.\n",
      "  donors = pd.read_csv(path+\"/Donors.csv\")\n"
     ]
    }
   ],
   "source": [
    "donors = pd.read_csv(path+\"/Donors.csv\")"
   ]
  },
  {
   "cell_type": "code",
   "execution_count": 9,
   "id": "c5e32e18",
   "metadata": {
    "scrolled": true
   },
   "outputs": [
    {
     "data": {
      "text/plain": [
       "Project ID                          1110017\n",
       "School ID                           1110017\n",
       "Teacher ID                          1110017\n",
       "Teacher Project Posted Sequence     1110017\n",
       "Project Type                        1110017\n",
       "Project Title                       1110011\n",
       "Project Essay                       1110016\n",
       "Project Short Description           1110014\n",
       "Project Need Statement              1110014\n",
       "Project Subject Category Tree       1109988\n",
       "Project Subject Subcategory Tree    1109988\n",
       "Project Grade Level Category        1110017\n",
       "Project Resource Category           1109981\n",
       "Project Cost                        1110017\n",
       "Project Posted Date                 1110017\n",
       "Project Expiration Date             1110003\n",
       "Project Current Status              1110017\n",
       "Project Fully Funded Date            826764\n",
       "dtype: int64"
      ]
     },
     "execution_count": 9,
     "metadata": {},
     "output_type": "execute_result"
    }
   ],
   "source": [
    "projects.count()"
   ]
  },
  {
   "cell_type": "code",
   "execution_count": 10,
   "id": "dffcefed",
   "metadata": {
    "scrolled": true
   },
   "outputs": [],
   "source": [
    "project_max_date = Timestamp('2018-01-01')\n",
    "project_min_date = Timestamp('2013-01-01')\n",
    "donations_max_date = Timestamp('2018-05-01')\n",
    "donations_min_date = Timestamp('2013-01-01')"
   ]
  },
  {
   "cell_type": "code",
   "execution_count": null,
   "id": "129669cc",
   "metadata": {
    "scrolled": true
   },
   "outputs": [],
   "source": []
  },
  {
   "cell_type": "code",
   "execution_count": 11,
   "id": "50c8aff2",
   "metadata": {
    "scrolled": true
   },
   "outputs": [],
   "source": [
    "donations[\"Donation Received Date\"] = pd.to_datetime(donations[\"Donation Received Date\"])\n",
    "projects[\"Project Posted Date\"] = pd.to_datetime(projects[\"Project Posted Date\"])"
   ]
  },
  {
   "cell_type": "code",
   "execution_count": 12,
   "id": "b3d0316a",
   "metadata": {
    "scrolled": true
   },
   "outputs": [
    {
     "data": {
      "text/plain": [
       "Timestamp('2018-05-09 11:38:47')"
      ]
     },
     "execution_count": 12,
     "metadata": {},
     "output_type": "execute_result"
    }
   ],
   "source": [
    "donations[\"Donation Received Date\"].max()"
   ]
  },
  {
   "cell_type": "code",
   "execution_count": 13,
   "id": "9eb0c29e",
   "metadata": {
    "scrolled": true
   },
   "outputs": [
    {
     "data": {
      "text/plain": [
       "Timestamp('2018-05-01 00:00:00')"
      ]
     },
     "execution_count": 13,
     "metadata": {},
     "output_type": "execute_result"
    }
   ],
   "source": [
    "projects[\"Project Posted Date\"].max()"
   ]
  },
  {
   "cell_type": "code",
   "execution_count": 14,
   "id": "cc56e595",
   "metadata": {
    "scrolled": true
   },
   "outputs": [
    {
     "data": {
      "text/plain": [
       "Timestamp('2012-10-08 13:53:00')"
      ]
     },
     "execution_count": 14,
     "metadata": {},
     "output_type": "execute_result"
    }
   ],
   "source": [
    "donations[\"Donation Received Date\"].min()"
   ]
  },
  {
   "cell_type": "code",
   "execution_count": 15,
   "id": "6522193d",
   "metadata": {
    "scrolled": true
   },
   "outputs": [
    {
     "data": {
      "text/plain": [
       "Timestamp('2013-01-01 00:00:00')"
      ]
     },
     "execution_count": 15,
     "metadata": {},
     "output_type": "execute_result"
    }
   ],
   "source": [
    "projects[\"Project Posted Date\"].min()"
   ]
  },
  {
   "cell_type": "code",
   "execution_count": 16,
   "id": "810654df",
   "metadata": {
    "scrolled": true
   },
   "outputs": [],
   "source": [
    "donations = donations[donations[\"Donation Received Date\"] > donations_min_date]\n",
    "donations = donations[donations[\"Donation Received Date\"] < donations_max_date]\n",
    "projects = projects[projects[\"Project Posted Date\"] < project_max_date]\n",
    "projects = projects[projects[\"Project Posted Date\"] > project_min_date]"
   ]
  },
  {
   "cell_type": "code",
   "execution_count": 17,
   "id": "78ac67c5",
   "metadata": {
    "scrolled": true
   },
   "outputs": [
    {
     "data": {
      "text/plain": [
       "Project ID                             4662374\n",
       "Donation ID                            4662374\n",
       "Donor ID                               4662374\n",
       "Donation Included Optional Donation    4662374\n",
       "Donation Amount                        4662374\n",
       "Donor Cart Sequence                    4662374\n",
       "Donation Received Date                 4662374\n",
       "dtype: int64"
      ]
     },
     "execution_count": 17,
     "metadata": {},
     "output_type": "execute_result"
    }
   ],
   "source": [
    "donations.count()"
   ]
  },
  {
   "cell_type": "code",
   "execution_count": 18,
   "id": "311f8566",
   "metadata": {
    "scrolled": true
   },
   "outputs": [
    {
     "data": {
      "text/plain": [
       "Project ID                          979436\n",
       "School ID                           979436\n",
       "Teacher ID                          979436\n",
       "Teacher Project Posted Sequence     979436\n",
       "Project Type                        979436\n",
       "Project Title                       979430\n",
       "Project Essay                       979435\n",
       "Project Short Description           979433\n",
       "Project Need Statement              979433\n",
       "Project Subject Category Tree       979407\n",
       "Project Subject Subcategory Tree    979407\n",
       "Project Grade Level Category        979436\n",
       "Project Resource Category           979400\n",
       "Project Cost                        979436\n",
       "Project Posted Date                 979436\n",
       "Project Expiration Date             979427\n",
       "Project Current Status              979436\n",
       "Project Fully Funded Date           738785\n",
       "dtype: int64"
      ]
     },
     "execution_count": 18,
     "metadata": {},
     "output_type": "execute_result"
    }
   ],
   "source": [
    "projects.count()"
   ]
  },
  {
   "cell_type": "code",
   "execution_count": 19,
   "id": "a84ba161",
   "metadata": {},
   "outputs": [
    {
     "data": {
      "text/plain": [
       "Project ID                          979436\n",
       "School ID                            70603\n",
       "Teacher ID                          368423\n",
       "Teacher Project Posted Sequence        484\n",
       "Project Type                             3\n",
       "Project Title                       822806\n",
       "Project Essay                       978086\n",
       "Project Short Description           782547\n",
       "Project Need Statement              952857\n",
       "Project Subject Category Tree           51\n",
       "Project Subject Subcategory Tree       432\n",
       "Project Grade Level Category             5\n",
       "Project Resource Category               17\n",
       "Project Cost                        156818\n",
       "Project Posted Date                   1825\n",
       "Project Expiration Date               1969\n",
       "Project Current Status                   2\n",
       "Project Fully Funded Date             1911\n",
       "dtype: int64"
      ]
     },
     "execution_count": 19,
     "metadata": {},
     "output_type": "execute_result"
    }
   ],
   "source": [
    "projects.nunique()"
   ]
  },
  {
   "cell_type": "code",
   "execution_count": 20,
   "id": "beb72922",
   "metadata": {
    "scrolled": true
   },
   "outputs": [
    {
     "data": {
      "text/plain": [
       "Index(['Project ID', 'School ID', 'Teacher ID',\n",
       "       'Teacher Project Posted Sequence', 'Project Type', 'Project Title',\n",
       "       'Project Essay', 'Project Short Description', 'Project Need Statement',\n",
       "       'Project Subject Category Tree', 'Project Subject Subcategory Tree',\n",
       "       'Project Grade Level Category', 'Project Resource Category',\n",
       "       'Project Cost', 'Project Posted Date', 'Project Expiration Date',\n",
       "       'Project Current Status', 'Project Fully Funded Date'],\n",
       "      dtype='object')"
      ]
     },
     "execution_count": 20,
     "metadata": {},
     "output_type": "execute_result"
    }
   ],
   "source": [
    "projects.columns"
   ]
  },
  {
   "cell_type": "code",
   "execution_count": 21,
   "id": "0577a280",
   "metadata": {
    "scrolled": true
   },
   "outputs": [],
   "source": [
    "projects = projects.drop(['Project Title', 'Project Essay', 'Project Short Description', 'Project Need Statement', 'Project Current Status'], axis=1)"
   ]
  },
  {
   "cell_type": "code",
   "execution_count": 22,
   "id": "46b3d1f5",
   "metadata": {
    "scrolled": true
   },
   "outputs": [
    {
     "data": {
      "text/plain": [
       "13"
      ]
     },
     "execution_count": 22,
     "metadata": {},
     "output_type": "execute_result"
    }
   ],
   "source": [
    "projects.columns.size"
   ]
  },
  {
   "cell_type": "code",
   "execution_count": 23,
   "id": "d65eebdc",
   "metadata": {
    "scrolled": true
   },
   "outputs": [],
   "source": [
    "donations = donations.drop([\"Donation Included Optional Donation\", \"Donor Cart Sequence\"], axis=1)"
   ]
  },
  {
   "cell_type": "code",
   "execution_count": 24,
   "id": "f3d0c102",
   "metadata": {
    "scrolled": true
   },
   "outputs": [
    {
     "data": {
      "text/html": [
       "<div>\n",
       "<style scoped>\n",
       "    .dataframe tbody tr th:only-of-type {\n",
       "        vertical-align: middle;\n",
       "    }\n",
       "\n",
       "    .dataframe tbody tr th {\n",
       "        vertical-align: top;\n",
       "    }\n",
       "\n",
       "    .dataframe thead th {\n",
       "        text-align: right;\n",
       "    }\n",
       "</style>\n",
       "<table border=\"1\" class=\"dataframe\">\n",
       "  <thead>\n",
       "    <tr style=\"text-align: right;\">\n",
       "      <th></th>\n",
       "      <th>Project ID</th>\n",
       "      <th>Donation ID</th>\n",
       "      <th>Donor ID</th>\n",
       "      <th>Donation Amount</th>\n",
       "      <th>Donation Received Date</th>\n",
       "    </tr>\n",
       "  </thead>\n",
       "  <tbody>\n",
       "    <tr>\n",
       "      <th>0</th>\n",
       "      <td>000009891526c0ade7180f8423792063</td>\n",
       "      <td>688729120858666221208529ee3fc18e</td>\n",
       "      <td>1f4b5b6e68445c6c4a0509b3aca93f38</td>\n",
       "      <td>178.37</td>\n",
       "      <td>2016-08-23 13:15:57</td>\n",
       "    </tr>\n",
       "    <tr>\n",
       "      <th>1</th>\n",
       "      <td>000009891526c0ade7180f8423792063</td>\n",
       "      <td>dcf1071da3aa3561f91ac689d1f73dee</td>\n",
       "      <td>4aaab6d244bf3599682239ed5591af8a</td>\n",
       "      <td>25.00</td>\n",
       "      <td>2016-06-06 20:05:23</td>\n",
       "    </tr>\n",
       "    <tr>\n",
       "      <th>2</th>\n",
       "      <td>000009891526c0ade7180f8423792063</td>\n",
       "      <td>18a234b9d1e538c431761d521ea7799d</td>\n",
       "      <td>0b0765dc9c759adc48a07688ba25e94e</td>\n",
       "      <td>20.00</td>\n",
       "      <td>2016-06-06 14:08:46</td>\n",
       "    </tr>\n",
       "    <tr>\n",
       "      <th>3</th>\n",
       "      <td>000009891526c0ade7180f8423792063</td>\n",
       "      <td>38d2744bf9138b0b57ed581c76c0e2da</td>\n",
       "      <td>377944ad61f72d800b25ec1862aec363</td>\n",
       "      <td>25.00</td>\n",
       "      <td>2016-05-15 10:23:04</td>\n",
       "    </tr>\n",
       "    <tr>\n",
       "      <th>4</th>\n",
       "      <td>000009891526c0ade7180f8423792063</td>\n",
       "      <td>5a032791e31167a70206bfb86fb60035</td>\n",
       "      <td>6d5b22d39e68c656071a842732c63a0c</td>\n",
       "      <td>25.00</td>\n",
       "      <td>2016-05-17 01:23:38</td>\n",
       "    </tr>\n",
       "  </tbody>\n",
       "</table>\n",
       "</div>"
      ],
      "text/plain": [
       "                         Project ID                       Donation ID  \\\n",
       "0  000009891526c0ade7180f8423792063  688729120858666221208529ee3fc18e   \n",
       "1  000009891526c0ade7180f8423792063  dcf1071da3aa3561f91ac689d1f73dee   \n",
       "2  000009891526c0ade7180f8423792063  18a234b9d1e538c431761d521ea7799d   \n",
       "3  000009891526c0ade7180f8423792063  38d2744bf9138b0b57ed581c76c0e2da   \n",
       "4  000009891526c0ade7180f8423792063  5a032791e31167a70206bfb86fb60035   \n",
       "\n",
       "                           Donor ID  Donation Amount Donation Received Date  \n",
       "0  1f4b5b6e68445c6c4a0509b3aca93f38           178.37    2016-08-23 13:15:57  \n",
       "1  4aaab6d244bf3599682239ed5591af8a            25.00    2016-06-06 20:05:23  \n",
       "2  0b0765dc9c759adc48a07688ba25e94e            20.00    2016-06-06 14:08:46  \n",
       "3  377944ad61f72d800b25ec1862aec363            25.00    2016-05-15 10:23:04  \n",
       "4  6d5b22d39e68c656071a842732c63a0c            25.00    2016-05-17 01:23:38  "
      ]
     },
     "execution_count": 24,
     "metadata": {},
     "output_type": "execute_result"
    }
   ],
   "source": [
    "donations.head()"
   ]
  },
  {
   "cell_type": "code",
   "execution_count": 25,
   "id": "b88cde4d",
   "metadata": {
    "scrolled": true
   },
   "outputs": [
    {
     "data": {
      "text/plain": [
       "True"
      ]
     },
     "execution_count": 25,
     "metadata": {},
     "output_type": "execute_result"
    }
   ],
   "source": [
    "projects[\"Project ID\"].count() == projects[\"Project ID\"].nunique()"
   ]
  },
  {
   "cell_type": "code",
   "execution_count": 26,
   "id": "a62bf35f",
   "metadata": {
    "scrolled": true
   },
   "outputs": [
    {
     "data": {
      "text/plain": [
       "40"
      ]
     },
     "execution_count": 26,
     "metadata": {},
     "output_type": "execute_result"
    }
   ],
   "source": [
    "donations[\"Donation ID\"].count() - donations[\"Donation ID\"].nunique()"
   ]
  },
  {
   "cell_type": "code",
   "execution_count": 27,
   "id": "96363855",
   "metadata": {
    "scrolled": true
   },
   "outputs": [],
   "source": [
    "donations.sort_values(by=[\"Donation ID\", \"Donation Received Date\"], inplace=True)\n",
    "donations.drop_duplicates(subset=[\"Donation ID\"], keep=\"last\", inplace=True)"
   ]
  },
  {
   "cell_type": "code",
   "execution_count": 28,
   "id": "2cd25c07",
   "metadata": {
    "scrolled": true
   },
   "outputs": [
    {
     "data": {
      "text/plain": [
       "0"
      ]
     },
     "execution_count": 28,
     "metadata": {},
     "output_type": "execute_result"
    }
   ],
   "source": [
    "donations[\"Donation ID\"].count() - donations[\"Donation ID\"].nunique()"
   ]
  },
  {
   "cell_type": "code",
   "execution_count": 29,
   "id": "8b764265",
   "metadata": {
    "scrolled": true
   },
   "outputs": [
    {
     "name": "stdout",
     "output_type": "stream",
     "text": [
      "Project ID                          979436\n",
      "School ID                           979436\n",
      "Teacher ID                          979436\n",
      "Teacher Project Posted Sequence     979436\n",
      "Project Type                        979436\n",
      "Project Subject Category Tree       979407\n",
      "Project Subject Subcategory Tree    979407\n",
      "Project Grade Level Category        979436\n",
      "Project Resource Category           979400\n",
      "Project Cost                        979436\n",
      "Project Posted Date                 979436\n",
      "Project Expiration Date             979427\n",
      "Project Fully Funded Date           738785\n",
      "dtype: int64\n",
      "Project ID                4662334\n",
      "Donation ID               4662334\n",
      "Donor ID                  4662334\n",
      "Donation Amount           4662334\n",
      "Donation Received Date    4662334\n",
      "dtype: int64\n"
     ]
    }
   ],
   "source": [
    "print(projects.count())\n",
    "print(donations.count())"
   ]
  },
  {
   "cell_type": "code",
   "execution_count": 30,
   "id": "dae7265e",
   "metadata": {
    "scrolled": true
   },
   "outputs": [],
   "source": [
    "project_donations = projects.merge(donations, on='Project ID', how='left')"
   ]
  },
  {
   "cell_type": "code",
   "execution_count": 31,
   "id": "4d6de50c",
   "metadata": {
    "scrolled": true
   },
   "outputs": [
    {
     "data": {
      "text/plain": [
       "Project ID                          4433037\n",
       "School ID                           4433037\n",
       "Teacher ID                          4433037\n",
       "Teacher Project Posted Sequence     4433037\n",
       "Project Type                        4433037\n",
       "Project Subject Category Tree       4432916\n",
       "Project Subject Subcategory Tree    4432916\n",
       "Project Grade Level Category        4433037\n",
       "Project Resource Category           4432893\n",
       "Project Cost                        4433037\n",
       "Project Posted Date                 4433037\n",
       "Project Expiration Date             4433026\n",
       "Project Fully Funded Date           3934570\n",
       "Donation ID                         4239997\n",
       "Donor ID                            4239997\n",
       "Donation Amount                     4239997\n",
       "Donation Received Date              4239997\n",
       "dtype: int64"
      ]
     },
     "execution_count": 31,
     "metadata": {},
     "output_type": "execute_result"
    }
   ],
   "source": [
    "project_donations.count()"
   ]
  },
  {
   "cell_type": "code",
   "execution_count": 32,
   "id": "89e07efd",
   "metadata": {},
   "outputs": [
    {
     "data": {
      "text/plain": [
       "Project ID                           979436\n",
       "School ID                             70603\n",
       "Teacher ID                           368423\n",
       "Teacher Project Posted Sequence         484\n",
       "Project Type                              3\n",
       "Project Subject Category Tree            51\n",
       "Project Subject Subcategory Tree        432\n",
       "Project Grade Level Category              5\n",
       "Project Resource Category                17\n",
       "Project Cost                         156818\n",
       "Project Posted Date                    1825\n",
       "Project Expiration Date                1969\n",
       "Project Fully Funded Date              1911\n",
       "Donation ID                         4239997\n",
       "Donor ID                            1881440\n",
       "Donation Amount                       74326\n",
       "Donation Received Date              3708986\n",
       "dtype: int64"
      ]
     },
     "execution_count": 32,
     "metadata": {},
     "output_type": "execute_result"
    }
   ],
   "source": [
    "project_donations.nunique()"
   ]
  },
  {
   "cell_type": "code",
   "execution_count": 33,
   "id": "40f490a8",
   "metadata": {
    "scrolled": true
   },
   "outputs": [],
   "source": [
    "donors = donors[[\"Donor ID\", \"Donor Is Teacher\"]]"
   ]
  },
  {
   "cell_type": "code",
   "execution_count": 34,
   "id": "d86e2536",
   "metadata": {
    "scrolled": true
   },
   "outputs": [],
   "source": [
    "project_donations_donors = project_donations.merge(donors, on='Donor ID', how='left')"
   ]
  },
  {
   "cell_type": "code",
   "execution_count": 35,
   "id": "b7212186",
   "metadata": {
    "scrolled": true
   },
   "outputs": [
    {
     "data": {
      "text/plain": [
       "Project ID                          4433037\n",
       "School ID                           4433037\n",
       "Teacher ID                          4433037\n",
       "Teacher Project Posted Sequence     4433037\n",
       "Project Type                        4433037\n",
       "Project Subject Category Tree       4432916\n",
       "Project Subject Subcategory Tree    4432916\n",
       "Project Grade Level Category        4433037\n",
       "Project Resource Category           4432893\n",
       "Project Cost                        4433037\n",
       "Project Posted Date                 4433037\n",
       "Project Expiration Date             4433026\n",
       "Project Fully Funded Date           3934570\n",
       "Donation ID                         4239997\n",
       "Donor ID                            4239997\n",
       "Donation Amount                     4239997\n",
       "Donation Received Date              4239997\n",
       "Donor Is Teacher                    4239992\n",
       "dtype: int64"
      ]
     },
     "execution_count": 35,
     "metadata": {},
     "output_type": "execute_result"
    }
   ],
   "source": [
    "project_donations_donors.count()"
   ]
  },
  {
   "cell_type": "code",
   "execution_count": 36,
   "id": "4f2d014a",
   "metadata": {},
   "outputs": [
    {
     "data": {
      "text/plain": [
       "Project ID                           979436\n",
       "School ID                             70603\n",
       "Teacher ID                           368423\n",
       "Teacher Project Posted Sequence         484\n",
       "Project Type                              3\n",
       "Project Subject Category Tree            51\n",
       "Project Subject Subcategory Tree        432\n",
       "Project Grade Level Category              5\n",
       "Project Resource Category                17\n",
       "Project Cost                         156818\n",
       "Project Posted Date                    1825\n",
       "Project Expiration Date                1969\n",
       "Project Fully Funded Date              1911\n",
       "Donation ID                         4239997\n",
       "Donor ID                            1881440\n",
       "Donation Amount                       74326\n",
       "Donation Received Date              3708986\n",
       "Donor Is Teacher                          2\n",
       "dtype: int64"
      ]
     },
     "execution_count": 36,
     "metadata": {},
     "output_type": "execute_result"
    }
   ],
   "source": [
    "project_donations_donors.nunique()"
   ]
  },
  {
   "cell_type": "code",
   "execution_count": 37,
   "id": "37de1c06",
   "metadata": {
    "scrolled": false
   },
   "outputs": [
    {
     "data": {
      "text/html": [
       "<div>\n",
       "<style scoped>\n",
       "    .dataframe tbody tr th:only-of-type {\n",
       "        vertical-align: middle;\n",
       "    }\n",
       "\n",
       "    .dataframe tbody tr th {\n",
       "        vertical-align: top;\n",
       "    }\n",
       "\n",
       "    .dataframe thead th {\n",
       "        text-align: right;\n",
       "    }\n",
       "</style>\n",
       "<table border=\"1\" class=\"dataframe\">\n",
       "  <thead>\n",
       "    <tr style=\"text-align: right;\">\n",
       "      <th></th>\n",
       "      <th>Project ID</th>\n",
       "      <th>School ID</th>\n",
       "      <th>Teacher ID</th>\n",
       "      <th>Teacher Project Posted Sequence</th>\n",
       "      <th>Project Type</th>\n",
       "      <th>Project Subject Category Tree</th>\n",
       "      <th>Project Subject Subcategory Tree</th>\n",
       "      <th>Project Grade Level Category</th>\n",
       "      <th>Project Resource Category</th>\n",
       "      <th>Project Cost</th>\n",
       "      <th>Project Posted Date</th>\n",
       "      <th>Project Expiration Date</th>\n",
       "      <th>Project Fully Funded Date</th>\n",
       "      <th>Donation ID</th>\n",
       "      <th>Donor ID</th>\n",
       "      <th>Donation Amount</th>\n",
       "      <th>Donation Received Date</th>\n",
       "      <th>Donor Is Teacher</th>\n",
       "    </tr>\n",
       "  </thead>\n",
       "  <tbody>\n",
       "    <tr>\n",
       "      <th>0</th>\n",
       "      <td>7b017fa79510998c3960ed8f3b47c7c9</td>\n",
       "      <td>9ae756303b7919428b455baae0eb1998</td>\n",
       "      <td>70c5ec84f5faae238a0b17cd755921ce</td>\n",
       "      <td>4</td>\n",
       "      <td>Teacher-Led</td>\n",
       "      <td>Literacy &amp; Language, Math &amp; Science</td>\n",
       "      <td>Literacy, Mathematics</td>\n",
       "      <td>Grades 3-5</td>\n",
       "      <td>Technology</td>\n",
       "      <td>347.93</td>\n",
       "      <td>2013-01-02</td>\n",
       "      <td>2013-05-31</td>\n",
       "      <td>NaN</td>\n",
       "      <td>0df1f587f4544de7d033d4eac68a69a1</td>\n",
       "      <td>8dd44940c567893c3f57e2534430752c</td>\n",
       "      <td>50.00</td>\n",
       "      <td>2013-05-15 15:55:53</td>\n",
       "      <td>No</td>\n",
       "    </tr>\n",
       "    <tr>\n",
       "      <th>1</th>\n",
       "      <td>b12c0c126c64963305a51ca60f687b53</td>\n",
       "      <td>0917cacae1d752ab5ead1cf1d9e86d59</td>\n",
       "      <td>4e8d5828adb05503f825d30d8a5c93a9</td>\n",
       "      <td>10</td>\n",
       "      <td>Teacher-Led</td>\n",
       "      <td>Math &amp; Science</td>\n",
       "      <td>Applied Sciences</td>\n",
       "      <td>Grades 6-8</td>\n",
       "      <td>Technology</td>\n",
       "      <td>527.05</td>\n",
       "      <td>2013-01-02</td>\n",
       "      <td>2013-06-01</td>\n",
       "      <td>NaN</td>\n",
       "      <td>a3860c0de4eff71b5421e996d23ba504</td>\n",
       "      <td>1962145118a5a9618d965044b721afd9</td>\n",
       "      <td>100.00</td>\n",
       "      <td>2013-01-03 10:57:28</td>\n",
       "      <td>No</td>\n",
       "    </tr>\n",
       "    <tr>\n",
       "      <th>2</th>\n",
       "      <td>f00d5e1740d3b36e1edbaf770d6b08c4</td>\n",
       "      <td>0737f34d03196b62fc2bc1fc2e5c2672</td>\n",
       "      <td>2d5176b68bedd91b7bde3054d6dbdf5c</td>\n",
       "      <td>3</td>\n",
       "      <td>Teacher-Led</td>\n",
       "      <td>Math &amp; Science, Literacy &amp; Language</td>\n",
       "      <td>Health &amp; Life Science, Literacy</td>\n",
       "      <td>Grades PreK-2</td>\n",
       "      <td>Books</td>\n",
       "      <td>254.85</td>\n",
       "      <td>2013-01-02</td>\n",
       "      <td>2013-05-31</td>\n",
       "      <td>2013-05-25</td>\n",
       "      <td>16d0d868e724426319f81855262a1e8e</td>\n",
       "      <td>cb0b14571e2d2c7a484e4e85d3d6b52f</td>\n",
       "      <td>50.00</td>\n",
       "      <td>2013-04-05 12:59:54</td>\n",
       "      <td>No</td>\n",
       "    </tr>\n",
       "    <tr>\n",
       "      <th>3</th>\n",
       "      <td>f00d5e1740d3b36e1edbaf770d6b08c4</td>\n",
       "      <td>0737f34d03196b62fc2bc1fc2e5c2672</td>\n",
       "      <td>2d5176b68bedd91b7bde3054d6dbdf5c</td>\n",
       "      <td>3</td>\n",
       "      <td>Teacher-Led</td>\n",
       "      <td>Math &amp; Science, Literacy &amp; Language</td>\n",
       "      <td>Health &amp; Life Science, Literacy</td>\n",
       "      <td>Grades PreK-2</td>\n",
       "      <td>Books</td>\n",
       "      <td>254.85</td>\n",
       "      <td>2013-01-02</td>\n",
       "      <td>2013-05-31</td>\n",
       "      <td>2013-05-25</td>\n",
       "      <td>93cf2f52d6197a06f6dee1103859a331</td>\n",
       "      <td>4d47f946ffdeb59d4ff30ec21b2d68fa</td>\n",
       "      <td>50.00</td>\n",
       "      <td>2013-05-10 20:25:26</td>\n",
       "      <td>No</td>\n",
       "    </tr>\n",
       "    <tr>\n",
       "      <th>4</th>\n",
       "      <td>f00d5e1740d3b36e1edbaf770d6b08c4</td>\n",
       "      <td>0737f34d03196b62fc2bc1fc2e5c2672</td>\n",
       "      <td>2d5176b68bedd91b7bde3054d6dbdf5c</td>\n",
       "      <td>3</td>\n",
       "      <td>Teacher-Led</td>\n",
       "      <td>Math &amp; Science, Literacy &amp; Language</td>\n",
       "      <td>Health &amp; Life Science, Literacy</td>\n",
       "      <td>Grades PreK-2</td>\n",
       "      <td>Books</td>\n",
       "      <td>254.85</td>\n",
       "      <td>2013-01-02</td>\n",
       "      <td>2013-05-31</td>\n",
       "      <td>2013-05-25</td>\n",
       "      <td>987b25323a4b14bb5d50fa9daf7098c4</td>\n",
       "      <td>0e345dcdef0d2a36c9bd17bf1ac3e10a</td>\n",
       "      <td>26.02</td>\n",
       "      <td>2013-05-19 00:14:10</td>\n",
       "      <td>No</td>\n",
       "    </tr>\n",
       "  </tbody>\n",
       "</table>\n",
       "</div>"
      ],
      "text/plain": [
       "                         Project ID                         School ID  \\\n",
       "0  7b017fa79510998c3960ed8f3b47c7c9  9ae756303b7919428b455baae0eb1998   \n",
       "1  b12c0c126c64963305a51ca60f687b53  0917cacae1d752ab5ead1cf1d9e86d59   \n",
       "2  f00d5e1740d3b36e1edbaf770d6b08c4  0737f34d03196b62fc2bc1fc2e5c2672   \n",
       "3  f00d5e1740d3b36e1edbaf770d6b08c4  0737f34d03196b62fc2bc1fc2e5c2672   \n",
       "4  f00d5e1740d3b36e1edbaf770d6b08c4  0737f34d03196b62fc2bc1fc2e5c2672   \n",
       "\n",
       "                         Teacher ID  Teacher Project Posted Sequence  \\\n",
       "0  70c5ec84f5faae238a0b17cd755921ce                                4   \n",
       "1  4e8d5828adb05503f825d30d8a5c93a9                               10   \n",
       "2  2d5176b68bedd91b7bde3054d6dbdf5c                                3   \n",
       "3  2d5176b68bedd91b7bde3054d6dbdf5c                                3   \n",
       "4  2d5176b68bedd91b7bde3054d6dbdf5c                                3   \n",
       "\n",
       "  Project Type        Project Subject Category Tree  \\\n",
       "0  Teacher-Led  Literacy & Language, Math & Science   \n",
       "1  Teacher-Led                       Math & Science   \n",
       "2  Teacher-Led  Math & Science, Literacy & Language   \n",
       "3  Teacher-Led  Math & Science, Literacy & Language   \n",
       "4  Teacher-Led  Math & Science, Literacy & Language   \n",
       "\n",
       "  Project Subject Subcategory Tree Project Grade Level Category  \\\n",
       "0            Literacy, Mathematics                   Grades 3-5   \n",
       "1                 Applied Sciences                   Grades 6-8   \n",
       "2  Health & Life Science, Literacy                Grades PreK-2   \n",
       "3  Health & Life Science, Literacy                Grades PreK-2   \n",
       "4  Health & Life Science, Literacy                Grades PreK-2   \n",
       "\n",
       "  Project Resource Category  Project Cost Project Posted Date  \\\n",
       "0                Technology        347.93          2013-01-02   \n",
       "1                Technology        527.05          2013-01-02   \n",
       "2                     Books        254.85          2013-01-02   \n",
       "3                     Books        254.85          2013-01-02   \n",
       "4                     Books        254.85          2013-01-02   \n",
       "\n",
       "  Project Expiration Date Project Fully Funded Date  \\\n",
       "0              2013-05-31                       NaN   \n",
       "1              2013-06-01                       NaN   \n",
       "2              2013-05-31                2013-05-25   \n",
       "3              2013-05-31                2013-05-25   \n",
       "4              2013-05-31                2013-05-25   \n",
       "\n",
       "                        Donation ID                          Donor ID  \\\n",
       "0  0df1f587f4544de7d033d4eac68a69a1  8dd44940c567893c3f57e2534430752c   \n",
       "1  a3860c0de4eff71b5421e996d23ba504  1962145118a5a9618d965044b721afd9   \n",
       "2  16d0d868e724426319f81855262a1e8e  cb0b14571e2d2c7a484e4e85d3d6b52f   \n",
       "3  93cf2f52d6197a06f6dee1103859a331  4d47f946ffdeb59d4ff30ec21b2d68fa   \n",
       "4  987b25323a4b14bb5d50fa9daf7098c4  0e345dcdef0d2a36c9bd17bf1ac3e10a   \n",
       "\n",
       "   Donation Amount Donation Received Date Donor Is Teacher  \n",
       "0            50.00    2013-05-15 15:55:53               No  \n",
       "1           100.00    2013-01-03 10:57:28               No  \n",
       "2            50.00    2013-04-05 12:59:54               No  \n",
       "3            50.00    2013-05-10 20:25:26               No  \n",
       "4            26.02    2013-05-19 00:14:10               No  "
      ]
     },
     "execution_count": 37,
     "metadata": {},
     "output_type": "execute_result"
    }
   ],
   "source": [
    "project_donations_donors.head()"
   ]
  },
  {
   "cell_type": "code",
   "execution_count": 38,
   "id": "ba448280",
   "metadata": {
    "scrolled": true
   },
   "outputs": [
    {
     "data": {
      "text/plain": [
       "(1157094, 18)"
      ]
     },
     "execution_count": 38,
     "metadata": {},
     "output_type": "execute_result"
    }
   ],
   "source": [
    "project_donations_donors[project_donations_donors['Donor Is Teacher'] == 'Yes'].shape"
   ]
  },
  {
   "cell_type": "code",
   "execution_count": 39,
   "id": "fb32d418",
   "metadata": {
    "scrolled": true
   },
   "outputs": [
    {
     "data": {
      "text/plain": [
       "(3082898, 18)"
      ]
     },
     "execution_count": 39,
     "metadata": {},
     "output_type": "execute_result"
    }
   ],
   "source": [
    "project_donations_donors[project_donations_donors['Donor Is Teacher'] == 'No'].shape"
   ]
  },
  {
   "cell_type": "code",
   "execution_count": 40,
   "id": "3ee9529f",
   "metadata": {
    "scrolled": true
   },
   "outputs": [],
   "source": [
    "# logic dropping teacher donations\n",
    "project_donations_donors = project_donations_donors[project_donations_donors['Donor Is Teacher'] != 'Yes']"
   ]
  },
  {
   "cell_type": "code",
   "execution_count": 41,
   "id": "7e69935b",
   "metadata": {
    "scrolled": true
   },
   "outputs": [
    {
     "data": {
      "text/plain": [
       "(3275943, 18)"
      ]
     },
     "execution_count": 41,
     "metadata": {},
     "output_type": "execute_result"
    }
   ],
   "source": [
    "project_donations_donors.shape"
   ]
  },
  {
   "cell_type": "code",
   "execution_count": 42,
   "id": "93e87153",
   "metadata": {
    "scrolled": true
   },
   "outputs": [],
   "source": [
    "project_donations_donors = project_donations_donors.drop(['Donor Is Teacher', 'Donor ID'], axis=1)"
   ]
  },
  {
   "cell_type": "code",
   "execution_count": 43,
   "id": "90d99b09",
   "metadata": {},
   "outputs": [
    {
     "data": {
      "text/plain": [
       "Project ID                           915954\n",
       "School ID                             69915\n",
       "Teacher ID                           358279\n",
       "Teacher Project Posted Sequence         482\n",
       "Project Type                              3\n",
       "Project Subject Category Tree            51\n",
       "Project Subject Subcategory Tree        430\n",
       "Project Grade Level Category              5\n",
       "Project Resource Category                17\n",
       "Project Cost                         152668\n",
       "Project Posted Date                    1825\n",
       "Project Expiration Date                1963\n",
       "Project Fully Funded Date              1911\n",
       "Donation ID                         3082903\n",
       "Donation Amount                       69830\n",
       "Donation Received Date              2797689\n",
       "dtype: int64"
      ]
     },
     "execution_count": 43,
     "metadata": {},
     "output_type": "execute_result"
    }
   ],
   "source": [
    "project_donations_donors.nunique()"
   ]
  },
  {
   "cell_type": "code",
   "execution_count": 44,
   "id": "e14a0059",
   "metadata": {},
   "outputs": [],
   "source": [
    "DONATION_PERIOD = 30\n",
    "THRESHOLD_RATIO = 0.4"
   ]
  },
  {
   "cell_type": "code",
   "execution_count": 45,
   "id": "f0bf0e65",
   "metadata": {
    "scrolled": true
   },
   "outputs": [],
   "source": [
    "project_donations_donors[\"Posted Date to Donation Date\"] = project_donations_donors[\"Donation Received Date\"] - project_donations_donors[\"Project Posted Date\"]\n",
    "project_donations_donors[\"Posted Date to Donation Date\"] = project_donations_donors[\"Posted Date to Donation Date\"].dt.days"
   ]
  },
  {
   "cell_type": "code",
   "execution_count": 46,
   "id": "b8c9be4f",
   "metadata": {
    "scrolled": false
   },
   "outputs": [
    {
     "data": {
      "text/plain": [
       "Project ID                           915954\n",
       "School ID                             69915\n",
       "Teacher ID                           358279\n",
       "Teacher Project Posted Sequence         482\n",
       "Project Type                              3\n",
       "Project Subject Category Tree            51\n",
       "Project Subject Subcategory Tree        430\n",
       "Project Grade Level Category              5\n",
       "Project Resource Category                17\n",
       "Project Cost                         152668\n",
       "Project Posted Date                    1825\n",
       "Project Expiration Date                1963\n",
       "Project Fully Funded Date              1911\n",
       "Donation ID                         3082903\n",
       "Donation Amount                       69830\n",
       "Donation Received Date              2797689\n",
       "Posted Date to Donation Date            365\n",
       "dtype: int64"
      ]
     },
     "execution_count": 46,
     "metadata": {},
     "output_type": "execute_result"
    }
   ],
   "source": [
    "project_donations_donors.nunique()"
   ]
  },
  {
   "cell_type": "code",
   "execution_count": 47,
   "id": "6a84f13c",
   "metadata": {},
   "outputs": [
    {
     "data": {
      "text/plain": [
       "Project ID                           722832\n",
       "School ID                             66285\n",
       "Teacher ID                           304189\n",
       "Teacher Project Posted Sequence         480\n",
       "Project Type                              3\n",
       "Project Subject Category Tree            51\n",
       "Project Subject Subcategory Tree        428\n",
       "Project Grade Level Category              5\n",
       "Project Resource Category                17\n",
       "Project Cost                         131928\n",
       "Project Posted Date                    1825\n",
       "Project Expiration Date                1958\n",
       "Project Fully Funded Date              1911\n",
       "Donation ID                         3079717\n",
       "Donation Amount                       69827\n",
       "Donation Received Date              2794702\n",
       "Posted Date to Donation Date            213\n",
       "dtype: int64"
      ]
     },
     "execution_count": 47,
     "metadata": {},
     "output_type": "execute_result"
    }
   ],
   "source": [
    "project_donations_donors[project_donations_donors[\"Posted Date to Donation Date\"] >= 0].nunique()"
   ]
  },
  {
   "cell_type": "code",
   "execution_count": 48,
   "id": "bd39c01c",
   "metadata": {},
   "outputs": [
    {
     "data": {
      "text/plain": [
       "Project ID                          3079717\n",
       "School ID                           3079717\n",
       "Teacher ID                          3079717\n",
       "Teacher Project Posted Sequence     3079717\n",
       "Project Type                        3079717\n",
       "Project Subject Category Tree       3079640\n",
       "Project Subject Subcategory Tree    3079640\n",
       "Project Grade Level Category        3079717\n",
       "Project Resource Category           3079618\n",
       "Project Cost                        3079717\n",
       "Project Posted Date                 3079717\n",
       "Project Expiration Date             3079715\n",
       "Project Fully Funded Date           2783677\n",
       "Donation ID                         3079717\n",
       "Donation Amount                     3079717\n",
       "Donation Received Date              3079717\n",
       "Posted Date to Donation Date        3079717\n",
       "dtype: int64"
      ]
     },
     "execution_count": 48,
     "metadata": {},
     "output_type": "execute_result"
    }
   ],
   "source": [
    "project_donations_donors[project_donations_donors[\"Posted Date to Donation Date\"] >= 0].count()"
   ]
  },
  {
   "cell_type": "code",
   "execution_count": 49,
   "id": "3eef8497",
   "metadata": {},
   "outputs": [],
   "source": [
    "# project_donations_donors = project_donations_donors[project_donations_donors[\"Posted Date to Donation Date\"] >= 0]"
   ]
  },
  {
   "cell_type": "code",
   "execution_count": 50,
   "id": "7d3a6df1",
   "metadata": {},
   "outputs": [
    {
     "data": {
      "text/plain": [
       "Project ID                           915954\n",
       "School ID                             69915\n",
       "Teacher ID                           358279\n",
       "Teacher Project Posted Sequence         482\n",
       "Project Type                              3\n",
       "Project Subject Category Tree            51\n",
       "Project Subject Subcategory Tree        430\n",
       "Project Grade Level Category              5\n",
       "Project Resource Category                17\n",
       "Project Cost                         152668\n",
       "Project Posted Date                    1825\n",
       "Project Expiration Date                1963\n",
       "Project Fully Funded Date              1911\n",
       "Donation ID                         3082903\n",
       "Donation Amount                       69830\n",
       "Donation Received Date              2797689\n",
       "Posted Date to Donation Date            365\n",
       "dtype: int64"
      ]
     },
     "execution_count": 50,
     "metadata": {},
     "output_type": "execute_result"
    }
   ],
   "source": [
    "project_donations_donors.nunique()"
   ]
  },
  {
   "cell_type": "code",
   "execution_count": 51,
   "id": "57623999",
   "metadata": {},
   "outputs": [],
   "source": [
    "mask_1 = project_donations_donors[\"Posted Date to Donation Date\"] <= DONATION_PERIOD\n",
    "mask_2 = project_donations_donors[\"Posted Date to Donation Date\"] <= DONATION_PERIOD*3"
   ]
  },
  {
   "cell_type": "code",
   "execution_count": 52,
   "id": "39aca213",
   "metadata": {},
   "outputs": [],
   "source": [
    "# project_donations_donors.loc[mask, \"Donation Amount\"] = 0\n",
    "project_donations_donors[\"Donation in first month\"] = np.where(mask_1, project_donations_donors[\"Donation Amount\"], 0)\n",
    "project_donations_donors[\"Donation in three months\"] = np.where(mask_2, project_donations_donors[\"Donation Amount\"], 0)"
   ]
  },
  {
   "cell_type": "code",
   "execution_count": 53,
   "id": "035008be",
   "metadata": {
    "scrolled": true
   },
   "outputs": [
    {
     "data": {
      "text/plain": [
       "Project ID                           915954\n",
       "School ID                             69915\n",
       "Teacher ID                           358279\n",
       "Teacher Project Posted Sequence         482\n",
       "Project Type                              3\n",
       "Project Subject Category Tree            51\n",
       "Project Subject Subcategory Tree        430\n",
       "Project Grade Level Category              5\n",
       "Project Resource Category                17\n",
       "Project Cost                         152668\n",
       "Project Posted Date                    1825\n",
       "Project Expiration Date                1963\n",
       "Project Fully Funded Date              1911\n",
       "Donation ID                         3082903\n",
       "Donation Amount                       69830\n",
       "Donation Received Date              2797689\n",
       "Posted Date to Donation Date            365\n",
       "Donation in first month               53050\n",
       "Donation in three months              63829\n",
       "dtype: int64"
      ]
     },
     "execution_count": 53,
     "metadata": {},
     "output_type": "execute_result"
    }
   ],
   "source": [
    "project_donations_donors.nunique()"
   ]
  },
  {
   "cell_type": "code",
   "execution_count": 54,
   "id": "05c38697",
   "metadata": {},
   "outputs": [
    {
     "data": {
      "text/plain": [
       "Project ID                          3275943\n",
       "School ID                           3275943\n",
       "Teacher ID                          3275943\n",
       "Teacher Project Posted Sequence     3275943\n",
       "Project Type                        3275943\n",
       "Project Subject Category Tree       3275855\n",
       "Project Subject Subcategory Tree    3275855\n",
       "Project Grade Level Category        3275943\n",
       "Project Resource Category           3275833\n",
       "Project Cost                        3275943\n",
       "Project Posted Date                 3275943\n",
       "Project Expiration Date             3275933\n",
       "Project Fully Funded Date           2873527\n",
       "Donation ID                         3082903\n",
       "Donation Amount                     3082903\n",
       "Donation Received Date              3082903\n",
       "Posted Date to Donation Date        3082903\n",
       "Donation in first month             3275943\n",
       "Donation in three months            3275943\n",
       "dtype: int64"
      ]
     },
     "execution_count": 54,
     "metadata": {},
     "output_type": "execute_result"
    }
   ],
   "source": [
    "project_donations_donors.count()"
   ]
  },
  {
   "cell_type": "code",
   "execution_count": 55,
   "id": "5d992d48",
   "metadata": {},
   "outputs": [],
   "source": [
    "grouped_1 = project_donations_donors.groupby(\"Project ID\")[\"Donation in first month\"].sum()\n",
    "grouped_2 = project_donations_donors.groupby(\"Project ID\")[\"Donation in three months\"].sum()"
   ]
  },
  {
   "cell_type": "code",
   "execution_count": 56,
   "id": "e73dd682",
   "metadata": {},
   "outputs": [],
   "source": [
    "data = project_donations_donors.merge(grouped_1, left_on='Project ID', right_index=True)\n",
    "data = data.merge(grouped_2, left_on='Project ID', right_index=True)"
   ]
  },
  {
   "cell_type": "code",
   "execution_count": 57,
   "id": "95b75ed6",
   "metadata": {},
   "outputs": [
    {
     "data": {
      "text/html": [
       "<div>\n",
       "<style scoped>\n",
       "    .dataframe tbody tr th:only-of-type {\n",
       "        vertical-align: middle;\n",
       "    }\n",
       "\n",
       "    .dataframe tbody tr th {\n",
       "        vertical-align: top;\n",
       "    }\n",
       "\n",
       "    .dataframe thead th {\n",
       "        text-align: right;\n",
       "    }\n",
       "</style>\n",
       "<table border=\"1\" class=\"dataframe\">\n",
       "  <thead>\n",
       "    <tr style=\"text-align: right;\">\n",
       "      <th></th>\n",
       "      <th>Project ID</th>\n",
       "      <th>School ID</th>\n",
       "      <th>Teacher ID</th>\n",
       "      <th>Teacher Project Posted Sequence</th>\n",
       "      <th>Project Type</th>\n",
       "      <th>Project Subject Category Tree</th>\n",
       "      <th>Project Subject Subcategory Tree</th>\n",
       "      <th>Project Grade Level Category</th>\n",
       "      <th>Project Resource Category</th>\n",
       "      <th>Project Cost</th>\n",
       "      <th>...</th>\n",
       "      <th>Project Expiration Date</th>\n",
       "      <th>Project Fully Funded Date</th>\n",
       "      <th>Donation ID</th>\n",
       "      <th>Donation Amount</th>\n",
       "      <th>Donation Received Date</th>\n",
       "      <th>Posted Date to Donation Date</th>\n",
       "      <th>Donation in first month_x</th>\n",
       "      <th>Donation in three months_x</th>\n",
       "      <th>Donation in first month_y</th>\n",
       "      <th>Donation in three months_y</th>\n",
       "    </tr>\n",
       "  </thead>\n",
       "  <tbody>\n",
       "    <tr>\n",
       "      <th>0</th>\n",
       "      <td>7b017fa79510998c3960ed8f3b47c7c9</td>\n",
       "      <td>9ae756303b7919428b455baae0eb1998</td>\n",
       "      <td>70c5ec84f5faae238a0b17cd755921ce</td>\n",
       "      <td>4</td>\n",
       "      <td>Teacher-Led</td>\n",
       "      <td>Literacy &amp; Language, Math &amp; Science</td>\n",
       "      <td>Literacy, Mathematics</td>\n",
       "      <td>Grades 3-5</td>\n",
       "      <td>Technology</td>\n",
       "      <td>347.93</td>\n",
       "      <td>...</td>\n",
       "      <td>2013-05-31</td>\n",
       "      <td>NaN</td>\n",
       "      <td>0df1f587f4544de7d033d4eac68a69a1</td>\n",
       "      <td>50.00</td>\n",
       "      <td>2013-05-15 15:55:53</td>\n",
       "      <td>133.0</td>\n",
       "      <td>0.0</td>\n",
       "      <td>0.0</td>\n",
       "      <td>0.0</td>\n",
       "      <td>0.0</td>\n",
       "    </tr>\n",
       "    <tr>\n",
       "      <th>1</th>\n",
       "      <td>b12c0c126c64963305a51ca60f687b53</td>\n",
       "      <td>0917cacae1d752ab5ead1cf1d9e86d59</td>\n",
       "      <td>4e8d5828adb05503f825d30d8a5c93a9</td>\n",
       "      <td>10</td>\n",
       "      <td>Teacher-Led</td>\n",
       "      <td>Math &amp; Science</td>\n",
       "      <td>Applied Sciences</td>\n",
       "      <td>Grades 6-8</td>\n",
       "      <td>Technology</td>\n",
       "      <td>527.05</td>\n",
       "      <td>...</td>\n",
       "      <td>2013-06-01</td>\n",
       "      <td>NaN</td>\n",
       "      <td>a3860c0de4eff71b5421e996d23ba504</td>\n",
       "      <td>100.00</td>\n",
       "      <td>2013-01-03 10:57:28</td>\n",
       "      <td>1.0</td>\n",
       "      <td>100.0</td>\n",
       "      <td>100.0</td>\n",
       "      <td>100.0</td>\n",
       "      <td>100.0</td>\n",
       "    </tr>\n",
       "    <tr>\n",
       "      <th>2</th>\n",
       "      <td>f00d5e1740d3b36e1edbaf770d6b08c4</td>\n",
       "      <td>0737f34d03196b62fc2bc1fc2e5c2672</td>\n",
       "      <td>2d5176b68bedd91b7bde3054d6dbdf5c</td>\n",
       "      <td>3</td>\n",
       "      <td>Teacher-Led</td>\n",
       "      <td>Math &amp; Science, Literacy &amp; Language</td>\n",
       "      <td>Health &amp; Life Science, Literacy</td>\n",
       "      <td>Grades PreK-2</td>\n",
       "      <td>Books</td>\n",
       "      <td>254.85</td>\n",
       "      <td>...</td>\n",
       "      <td>2013-05-31</td>\n",
       "      <td>2013-05-25</td>\n",
       "      <td>16d0d868e724426319f81855262a1e8e</td>\n",
       "      <td>50.00</td>\n",
       "      <td>2013-04-05 12:59:54</td>\n",
       "      <td>93.0</td>\n",
       "      <td>0.0</td>\n",
       "      <td>0.0</td>\n",
       "      <td>0.0</td>\n",
       "      <td>0.0</td>\n",
       "    </tr>\n",
       "    <tr>\n",
       "      <th>3</th>\n",
       "      <td>f00d5e1740d3b36e1edbaf770d6b08c4</td>\n",
       "      <td>0737f34d03196b62fc2bc1fc2e5c2672</td>\n",
       "      <td>2d5176b68bedd91b7bde3054d6dbdf5c</td>\n",
       "      <td>3</td>\n",
       "      <td>Teacher-Led</td>\n",
       "      <td>Math &amp; Science, Literacy &amp; Language</td>\n",
       "      <td>Health &amp; Life Science, Literacy</td>\n",
       "      <td>Grades PreK-2</td>\n",
       "      <td>Books</td>\n",
       "      <td>254.85</td>\n",
       "      <td>...</td>\n",
       "      <td>2013-05-31</td>\n",
       "      <td>2013-05-25</td>\n",
       "      <td>93cf2f52d6197a06f6dee1103859a331</td>\n",
       "      <td>50.00</td>\n",
       "      <td>2013-05-10 20:25:26</td>\n",
       "      <td>128.0</td>\n",
       "      <td>0.0</td>\n",
       "      <td>0.0</td>\n",
       "      <td>0.0</td>\n",
       "      <td>0.0</td>\n",
       "    </tr>\n",
       "    <tr>\n",
       "      <th>4</th>\n",
       "      <td>f00d5e1740d3b36e1edbaf770d6b08c4</td>\n",
       "      <td>0737f34d03196b62fc2bc1fc2e5c2672</td>\n",
       "      <td>2d5176b68bedd91b7bde3054d6dbdf5c</td>\n",
       "      <td>3</td>\n",
       "      <td>Teacher-Led</td>\n",
       "      <td>Math &amp; Science, Literacy &amp; Language</td>\n",
       "      <td>Health &amp; Life Science, Literacy</td>\n",
       "      <td>Grades PreK-2</td>\n",
       "      <td>Books</td>\n",
       "      <td>254.85</td>\n",
       "      <td>...</td>\n",
       "      <td>2013-05-31</td>\n",
       "      <td>2013-05-25</td>\n",
       "      <td>987b25323a4b14bb5d50fa9daf7098c4</td>\n",
       "      <td>26.02</td>\n",
       "      <td>2013-05-19 00:14:10</td>\n",
       "      <td>137.0</td>\n",
       "      <td>0.0</td>\n",
       "      <td>0.0</td>\n",
       "      <td>0.0</td>\n",
       "      <td>0.0</td>\n",
       "    </tr>\n",
       "  </tbody>\n",
       "</table>\n",
       "<p>5 rows × 21 columns</p>\n",
       "</div>"
      ],
      "text/plain": [
       "                         Project ID                         School ID  \\\n",
       "0  7b017fa79510998c3960ed8f3b47c7c9  9ae756303b7919428b455baae0eb1998   \n",
       "1  b12c0c126c64963305a51ca60f687b53  0917cacae1d752ab5ead1cf1d9e86d59   \n",
       "2  f00d5e1740d3b36e1edbaf770d6b08c4  0737f34d03196b62fc2bc1fc2e5c2672   \n",
       "3  f00d5e1740d3b36e1edbaf770d6b08c4  0737f34d03196b62fc2bc1fc2e5c2672   \n",
       "4  f00d5e1740d3b36e1edbaf770d6b08c4  0737f34d03196b62fc2bc1fc2e5c2672   \n",
       "\n",
       "                         Teacher ID  Teacher Project Posted Sequence  \\\n",
       "0  70c5ec84f5faae238a0b17cd755921ce                                4   \n",
       "1  4e8d5828adb05503f825d30d8a5c93a9                               10   \n",
       "2  2d5176b68bedd91b7bde3054d6dbdf5c                                3   \n",
       "3  2d5176b68bedd91b7bde3054d6dbdf5c                                3   \n",
       "4  2d5176b68bedd91b7bde3054d6dbdf5c                                3   \n",
       "\n",
       "  Project Type        Project Subject Category Tree  \\\n",
       "0  Teacher-Led  Literacy & Language, Math & Science   \n",
       "1  Teacher-Led                       Math & Science   \n",
       "2  Teacher-Led  Math & Science, Literacy & Language   \n",
       "3  Teacher-Led  Math & Science, Literacy & Language   \n",
       "4  Teacher-Led  Math & Science, Literacy & Language   \n",
       "\n",
       "  Project Subject Subcategory Tree Project Grade Level Category  \\\n",
       "0            Literacy, Mathematics                   Grades 3-5   \n",
       "1                 Applied Sciences                   Grades 6-8   \n",
       "2  Health & Life Science, Literacy                Grades PreK-2   \n",
       "3  Health & Life Science, Literacy                Grades PreK-2   \n",
       "4  Health & Life Science, Literacy                Grades PreK-2   \n",
       "\n",
       "  Project Resource Category  Project Cost  ... Project Expiration Date  \\\n",
       "0                Technology        347.93  ...              2013-05-31   \n",
       "1                Technology        527.05  ...              2013-06-01   \n",
       "2                     Books        254.85  ...              2013-05-31   \n",
       "3                     Books        254.85  ...              2013-05-31   \n",
       "4                     Books        254.85  ...              2013-05-31   \n",
       "\n",
       "  Project Fully Funded Date                       Donation ID Donation Amount  \\\n",
       "0                       NaN  0df1f587f4544de7d033d4eac68a69a1           50.00   \n",
       "1                       NaN  a3860c0de4eff71b5421e996d23ba504          100.00   \n",
       "2                2013-05-25  16d0d868e724426319f81855262a1e8e           50.00   \n",
       "3                2013-05-25  93cf2f52d6197a06f6dee1103859a331           50.00   \n",
       "4                2013-05-25  987b25323a4b14bb5d50fa9daf7098c4           26.02   \n",
       "\n",
       "   Donation Received Date Posted Date to Donation Date  \\\n",
       "0     2013-05-15 15:55:53                        133.0   \n",
       "1     2013-01-03 10:57:28                          1.0   \n",
       "2     2013-04-05 12:59:54                         93.0   \n",
       "3     2013-05-10 20:25:26                        128.0   \n",
       "4     2013-05-19 00:14:10                        137.0   \n",
       "\n",
       "   Donation in first month_x  Donation in three months_x  \\\n",
       "0                        0.0                         0.0   \n",
       "1                      100.0                       100.0   \n",
       "2                        0.0                         0.0   \n",
       "3                        0.0                         0.0   \n",
       "4                        0.0                         0.0   \n",
       "\n",
       "   Donation in first month_y  Donation in three months_y  \n",
       "0                        0.0                         0.0  \n",
       "1                      100.0                       100.0  \n",
       "2                        0.0                         0.0  \n",
       "3                        0.0                         0.0  \n",
       "4                        0.0                         0.0  \n",
       "\n",
       "[5 rows x 21 columns]"
      ]
     },
     "execution_count": 57,
     "metadata": {},
     "output_type": "execute_result"
    }
   ],
   "source": [
    "data.head()"
   ]
  },
  {
   "cell_type": "code",
   "execution_count": 58,
   "id": "e627740e",
   "metadata": {},
   "outputs": [],
   "source": [
    "data.drop_duplicates(subset=\"Project ID\", keep=\"first\", inplace=True)"
   ]
  },
  {
   "cell_type": "code",
   "execution_count": 59,
   "id": "51f8b2ee",
   "metadata": {},
   "outputs": [
    {
     "data": {
      "text/plain": [
       "Project ID                          915954\n",
       "School ID                           915954\n",
       "Teacher ID                          915954\n",
       "Teacher Project Posted Sequence     915954\n",
       "Project Type                        915954\n",
       "Project Subject Category Tree       915926\n",
       "Project Subject Subcategory Tree    915926\n",
       "Project Grade Level Category        915954\n",
       "Project Resource Category           915920\n",
       "Project Cost                        915954\n",
       "Project Posted Date                 915954\n",
       "Project Expiration Date             915945\n",
       "Project Fully Funded Date           692487\n",
       "Donation ID                         722914\n",
       "Donation Amount                     722914\n",
       "Donation Received Date              722914\n",
       "Posted Date to Donation Date        722914\n",
       "Donation in first month_x           915954\n",
       "Donation in three months_x          915954\n",
       "Donation in first month_y           915954\n",
       "Donation in three months_y          915954\n",
       "dtype: int64"
      ]
     },
     "execution_count": 59,
     "metadata": {},
     "output_type": "execute_result"
    }
   ],
   "source": [
    "data.count()"
   ]
  },
  {
   "cell_type": "code",
   "execution_count": 79,
   "id": "5178a7dd",
   "metadata": {},
   "outputs": [
    {
     "data": {
      "text/html": [
       "<div>\n",
       "<style scoped>\n",
       "    .dataframe tbody tr th:only-of-type {\n",
       "        vertical-align: middle;\n",
       "    }\n",
       "\n",
       "    .dataframe tbody tr th {\n",
       "        vertical-align: top;\n",
       "    }\n",
       "\n",
       "    .dataframe thead th {\n",
       "        text-align: right;\n",
       "    }\n",
       "</style>\n",
       "<table border=\"1\" class=\"dataframe\">\n",
       "  <thead>\n",
       "    <tr style=\"text-align: right;\">\n",
       "      <th></th>\n",
       "      <th>Project Posted Date</th>\n",
       "      <th>Project Expiration Date</th>\n",
       "    </tr>\n",
       "  </thead>\n",
       "  <tbody>\n",
       "    <tr>\n",
       "      <th>0</th>\n",
       "      <td>2013-01-02</td>\n",
       "      <td>2013-05-31</td>\n",
       "    </tr>\n",
       "    <tr>\n",
       "      <th>1</th>\n",
       "      <td>2013-01-02</td>\n",
       "      <td>2013-06-01</td>\n",
       "    </tr>\n",
       "    <tr>\n",
       "      <th>2</th>\n",
       "      <td>2013-01-02</td>\n",
       "      <td>2013-05-31</td>\n",
       "    </tr>\n",
       "    <tr>\n",
       "      <th>6</th>\n",
       "      <td>2013-01-02</td>\n",
       "      <td>2013-05-31</td>\n",
       "    </tr>\n",
       "    <tr>\n",
       "      <th>46</th>\n",
       "      <td>2013-01-02</td>\n",
       "      <td>2013-06-01</td>\n",
       "    </tr>\n",
       "    <tr>\n",
       "      <th>...</th>\n",
       "      <td>...</td>\n",
       "      <td>...</td>\n",
       "    </tr>\n",
       "    <tr>\n",
       "      <th>4433026</th>\n",
       "      <td>2017-12-31</td>\n",
       "      <td>2018-04-30</td>\n",
       "    </tr>\n",
       "    <tr>\n",
       "      <th>4433027</th>\n",
       "      <td>2017-12-31</td>\n",
       "      <td>2018-04-30</td>\n",
       "    </tr>\n",
       "    <tr>\n",
       "      <th>4433028</th>\n",
       "      <td>2017-12-31</td>\n",
       "      <td>2018-04-30</td>\n",
       "    </tr>\n",
       "    <tr>\n",
       "      <th>4433029</th>\n",
       "      <td>2017-12-31</td>\n",
       "      <td>2018-04-30</td>\n",
       "    </tr>\n",
       "    <tr>\n",
       "      <th>4433031</th>\n",
       "      <td>2017-12-31</td>\n",
       "      <td>2018-04-30</td>\n",
       "    </tr>\n",
       "  </tbody>\n",
       "</table>\n",
       "<p>915954 rows × 2 columns</p>\n",
       "</div>"
      ],
      "text/plain": [
       "        Project Posted Date Project Expiration Date\n",
       "0                2013-01-02              2013-05-31\n",
       "1                2013-01-02              2013-06-01\n",
       "2                2013-01-02              2013-05-31\n",
       "6                2013-01-02              2013-05-31\n",
       "46               2013-01-02              2013-06-01\n",
       "...                     ...                     ...\n",
       "4433026          2017-12-31              2018-04-30\n",
       "4433027          2017-12-31              2018-04-30\n",
       "4433028          2017-12-31              2018-04-30\n",
       "4433029          2017-12-31              2018-04-30\n",
       "4433031          2017-12-31              2018-04-30\n",
       "\n",
       "[915954 rows x 2 columns]"
      ]
     },
     "execution_count": 79,
     "metadata": {},
     "output_type": "execute_result"
    }
   ],
   "source": [
    "data[[\"Project Posted Date\", \"Project Expiration Date\"]]"
   ]
  },
  {
   "cell_type": "code",
   "execution_count": 63,
   "id": "0872836a",
   "metadata": {},
   "outputs": [],
   "source": [
    "# Convert to datetime\n",
    "projects[\"Project Posted Date\"]=pd.to_datetime(projects[\"Project Posted Date\"])\n",
    "projects[\"Project Expiration Date\"]=pd.to_datetime(projects[\"Project Expiration Date\"])\n",
    "#projects[\"Fully Funded Date\"]=pd.to_datetime(projects[\"Fully Funded Date\"])\n",
    "projects[\"Active Duration\"] = projects.loc[:,\"Project Expiration Date\"] - projects.loc[:,\"Project Posted Date\"]"
   ]
  },
  {
   "cell_type": "code",
   "execution_count": 68,
   "id": "94ded30b",
   "metadata": {},
   "outputs": [
    {
     "ename": "TypeError",
     "evalue": "cannot perform __truediv__ with this index type: DatetimeArray",
     "output_type": "error",
     "traceback": [
      "\u001b[0;31m---------------------------------------------------------------------------\u001b[0m",
      "\u001b[0;31mTypeError\u001b[0m                                 Traceback (most recent call last)",
      "Cell \u001b[0;32mIn[68], line 5\u001b[0m\n\u001b[1;32m      2\u001b[0m \u001b[38;5;28;01mimport\u001b[39;00m \u001b[38;5;21;01mmatplotlib\u001b[39;00m\u001b[38;5;21;01m.\u001b[39;00m\u001b[38;5;21;01mpyplot\u001b[39;00m \u001b[38;5;28;01mas\u001b[39;00m \u001b[38;5;21;01mplt\u001b[39;00m\n\u001b[1;32m      4\u001b[0m projects[\u001b[38;5;124m\"\u001b[39m\u001b[38;5;124mActive Duration\u001b[39m\u001b[38;5;124m\"\u001b[39m] \u001b[38;5;241m=\u001b[39m pd\u001b[38;5;241m.\u001b[39mto_datetime(projects[\u001b[38;5;124m\"\u001b[39m\u001b[38;5;124mActive Duration\u001b[39m\u001b[38;5;124m\"\u001b[39m])\n\u001b[0;32m----> 5\u001b[0m projects[\u001b[38;5;124m\"\u001b[39m\u001b[38;5;124mActive Duration\u001b[39m\u001b[38;5;124m\"\u001b[39m] \u001b[38;5;241m=\u001b[39m projects[\u001b[38;5;124m\"\u001b[39m\u001b[38;5;124mActive Duration\u001b[39m\u001b[38;5;124m\"\u001b[39m]\u001b[38;5;241m/\u001b[39m np\u001b[38;5;241m.\u001b[39mtimedelta64(\u001b[38;5;241m1\u001b[39m, \u001b[38;5;124m'\u001b[39m\u001b[38;5;124mD\u001b[39m\u001b[38;5;124m'\u001b[39m)\n\u001b[1;32m      6\u001b[0m plt\u001b[38;5;241m.\u001b[39mclf()\n\u001b[1;32m      7\u001b[0m f, axes \u001b[38;5;241m=\u001b[39m plt\u001b[38;5;241m.\u001b[39msubplots(\u001b[38;5;241m1\u001b[39m, \u001b[38;5;241m2\u001b[39m,figsize\u001b[38;5;241m=\u001b[39m(\u001b[38;5;241m28\u001b[39m,\u001b[38;5;241m7\u001b[39m))\n",
      "File \u001b[0;32m~/miniforge3/envs/dusi/lib/python3.11/site-packages/pandas/core/ops/common.py:81\u001b[0m, in \u001b[0;36m_unpack_zerodim_and_defer.<locals>.new_method\u001b[0;34m(self, other)\u001b[0m\n\u001b[1;32m     77\u001b[0m             \u001b[38;5;28;01mreturn\u001b[39;00m \u001b[38;5;28mNotImplemented\u001b[39m\n\u001b[1;32m     79\u001b[0m other \u001b[38;5;241m=\u001b[39m item_from_zerodim(other)\n\u001b[0;32m---> 81\u001b[0m \u001b[38;5;28;01mreturn\u001b[39;00m method(\u001b[38;5;28mself\u001b[39m, other)\n",
      "File \u001b[0;32m~/miniforge3/envs/dusi/lib/python3.11/site-packages/pandas/core/arraylike.py:210\u001b[0m, in \u001b[0;36mOpsMixin.__truediv__\u001b[0;34m(self, other)\u001b[0m\n\u001b[1;32m    208\u001b[0m \u001b[38;5;129m@unpack_zerodim_and_defer\u001b[39m(\u001b[38;5;124m\"\u001b[39m\u001b[38;5;124m__truediv__\u001b[39m\u001b[38;5;124m\"\u001b[39m)\n\u001b[1;32m    209\u001b[0m \u001b[38;5;28;01mdef\u001b[39;00m \u001b[38;5;21m__truediv__\u001b[39m(\u001b[38;5;28mself\u001b[39m, other):\n\u001b[0;32m--> 210\u001b[0m     \u001b[38;5;28;01mreturn\u001b[39;00m \u001b[38;5;28mself\u001b[39m\u001b[38;5;241m.\u001b[39m_arith_method(other, operator\u001b[38;5;241m.\u001b[39mtruediv)\n",
      "File \u001b[0;32m~/miniforge3/envs/dusi/lib/python3.11/site-packages/pandas/core/series.py:6112\u001b[0m, in \u001b[0;36mSeries._arith_method\u001b[0;34m(self, other, op)\u001b[0m\n\u001b[1;32m   6110\u001b[0m \u001b[38;5;28;01mdef\u001b[39;00m \u001b[38;5;21m_arith_method\u001b[39m(\u001b[38;5;28mself\u001b[39m, other, op):\n\u001b[1;32m   6111\u001b[0m     \u001b[38;5;28mself\u001b[39m, other \u001b[38;5;241m=\u001b[39m ops\u001b[38;5;241m.\u001b[39malign_method_SERIES(\u001b[38;5;28mself\u001b[39m, other)\n\u001b[0;32m-> 6112\u001b[0m     \u001b[38;5;28;01mreturn\u001b[39;00m base\u001b[38;5;241m.\u001b[39mIndexOpsMixin\u001b[38;5;241m.\u001b[39m_arith_method(\u001b[38;5;28mself\u001b[39m, other, op)\n",
      "File \u001b[0;32m~/miniforge3/envs/dusi/lib/python3.11/site-packages/pandas/core/base.py:1348\u001b[0m, in \u001b[0;36mIndexOpsMixin._arith_method\u001b[0;34m(self, other, op)\u001b[0m\n\u001b[1;32m   1345\u001b[0m rvalues \u001b[38;5;241m=\u001b[39m ensure_wrapped_if_datetimelike(rvalues)\n\u001b[1;32m   1347\u001b[0m \u001b[38;5;28;01mwith\u001b[39;00m np\u001b[38;5;241m.\u001b[39merrstate(\u001b[38;5;28mall\u001b[39m\u001b[38;5;241m=\u001b[39m\u001b[38;5;124m\"\u001b[39m\u001b[38;5;124mignore\u001b[39m\u001b[38;5;124m\"\u001b[39m):\n\u001b[0;32m-> 1348\u001b[0m     result \u001b[38;5;241m=\u001b[39m ops\u001b[38;5;241m.\u001b[39marithmetic_op(lvalues, rvalues, op)\n\u001b[1;32m   1350\u001b[0m \u001b[38;5;28;01mreturn\u001b[39;00m \u001b[38;5;28mself\u001b[39m\u001b[38;5;241m.\u001b[39m_construct_result(result, name\u001b[38;5;241m=\u001b[39mres_name)\n",
      "File \u001b[0;32m~/miniforge3/envs/dusi/lib/python3.11/site-packages/pandas/core/ops/array_ops.py:224\u001b[0m, in \u001b[0;36marithmetic_op\u001b[0;34m(left, right, op)\u001b[0m\n\u001b[1;32m    211\u001b[0m \u001b[38;5;66;03m# NB: We assume that extract_array and ensure_wrapped_if_datetimelike\u001b[39;00m\n\u001b[1;32m    212\u001b[0m \u001b[38;5;66;03m#  have already been called on `left` and `right`,\u001b[39;00m\n\u001b[1;32m    213\u001b[0m \u001b[38;5;66;03m#  and `maybe_prepare_scalar_for_op` has already been called on `right`\u001b[39;00m\n\u001b[1;32m    214\u001b[0m \u001b[38;5;66;03m# We need to special-case datetime64/timedelta64 dtypes (e.g. because numpy\u001b[39;00m\n\u001b[1;32m    215\u001b[0m \u001b[38;5;66;03m# casts integer dtypes to timedelta64 when operating with timedelta64 - GH#22390)\u001b[39;00m\n\u001b[1;32m    217\u001b[0m \u001b[38;5;28;01mif\u001b[39;00m (\n\u001b[1;32m    218\u001b[0m     should_extension_dispatch(left, right)\n\u001b[1;32m    219\u001b[0m     \u001b[38;5;129;01mor\u001b[39;00m \u001b[38;5;28misinstance\u001b[39m(right, (Timedelta, BaseOffset, Timestamp))\n\u001b[0;32m   (...)\u001b[0m\n\u001b[1;32m    222\u001b[0m     \u001b[38;5;66;03m# Timedelta/Timestamp and other custom scalars are included in the check\u001b[39;00m\n\u001b[1;32m    223\u001b[0m     \u001b[38;5;66;03m# because numexpr will fail on it, see GH#31457\u001b[39;00m\n\u001b[0;32m--> 224\u001b[0m     res_values \u001b[38;5;241m=\u001b[39m op(left, right)\n\u001b[1;32m    225\u001b[0m \u001b[38;5;28;01melse\u001b[39;00m:\n\u001b[1;32m    226\u001b[0m     \u001b[38;5;66;03m# TODO we should handle EAs consistently and move this check before the if/else\u001b[39;00m\n\u001b[1;32m    227\u001b[0m     \u001b[38;5;66;03m# (https://github.com/pandas-dev/pandas/issues/41165)\u001b[39;00m\n\u001b[1;32m    228\u001b[0m     _bool_arith_check(op, left, right)\n",
      "File \u001b[0;32m~/miniforge3/envs/dusi/lib/python3.11/site-packages/pandas/core/ops/invalid.py:55\u001b[0m, in \u001b[0;36mmake_invalid_op.<locals>.invalid_op\u001b[0;34m(self, other)\u001b[0m\n\u001b[1;32m     53\u001b[0m \u001b[38;5;28;01mdef\u001b[39;00m \u001b[38;5;21minvalid_op\u001b[39m(\u001b[38;5;28mself\u001b[39m, other\u001b[38;5;241m=\u001b[39m\u001b[38;5;28;01mNone\u001b[39;00m):\n\u001b[1;32m     54\u001b[0m     typ \u001b[38;5;241m=\u001b[39m \u001b[38;5;28mtype\u001b[39m(\u001b[38;5;28mself\u001b[39m)\u001b[38;5;241m.\u001b[39m\u001b[38;5;18m__name__\u001b[39m\n\u001b[0;32m---> 55\u001b[0m     \u001b[38;5;28;01mraise\u001b[39;00m \u001b[38;5;167;01mTypeError\u001b[39;00m(\u001b[38;5;124mf\u001b[39m\u001b[38;5;124m\"\u001b[39m\u001b[38;5;124mcannot perform \u001b[39m\u001b[38;5;132;01m{\u001b[39;00mname\u001b[38;5;132;01m}\u001b[39;00m\u001b[38;5;124m with this index type: \u001b[39m\u001b[38;5;132;01m{\u001b[39;00mtyp\u001b[38;5;132;01m}\u001b[39;00m\u001b[38;5;124m\"\u001b[39m)\n",
      "\u001b[0;31mTypeError\u001b[0m: cannot perform __truediv__ with this index type: DatetimeArray"
     ]
    }
   ],
   "source": [
    "import seaborn as sns\n",
    "import matplotlib.pyplot as plt\n",
    "\n",
    "projects[\"Active Duration\"] = pd.to_datetime(projects[\"Active Duration\"])\n",
    "projects[\"Active Duration\"] = projects[\"Active Duration\"]/ np.timedelta64(1, 'D')\n",
    "plt.clf()\n",
    "f, axes = plt.subplots(1, 2,figsize=(28,7))\n",
    "\n",
    "a=0\n",
    "q1 = projects[\"Active Duration\"].quantile(0.1)\n",
    "q3 = projects[\"Active Duration\"].quantile(1-0.01)\n",
    "mask = projects[\"Active Duration\"].between(q1, q3, inclusive=True)\n",
    "iqr = projects.loc[mask, \"Active Duration\"]\n",
    "sns.distplot(iqr, ax=axes[0])"
   ]
  },
  {
   "cell_type": "code",
   "execution_count": 61,
   "id": "0948a7a5",
   "metadata": {},
   "outputs": [],
   "source": [
    "data.rename(columns={'Donation in first month_y': 'Total Donations In 1 Month'}, inplace=True)\n",
    "data.rename(columns={'Donation in three months_y': 'Total Donations In 3 Months'}, inplace=True)"
   ]
  },
  {
   "cell_type": "code",
   "execution_count": 62,
   "id": "25067645",
   "metadata": {},
   "outputs": [
    {
     "data": {
      "text/plain": [
       "Project ID                          915954\n",
       "School ID                            69915\n",
       "Teacher ID                          358279\n",
       "Teacher Project Posted Sequence        482\n",
       "Project Type                             3\n",
       "Project Subject Category Tree           51\n",
       "Project Subject Subcategory Tree       430\n",
       "Project Grade Level Category             5\n",
       "Project Resource Category               17\n",
       "Project Cost                        152668\n",
       "Project Posted Date                   1825\n",
       "Project Expiration Date               1963\n",
       "Project Fully Funded Date             1911\n",
       "Donation ID                         722914\n",
       "Donation Amount                      58053\n",
       "Donation Received Date              670370\n",
       "Posted Date to Donation Date           276\n",
       "Donation in first month_x            45115\n",
       "Donation in three months_x           53578\n",
       "Total Donations In 1 Month           85991\n",
       "Total Donations In 3 Months         102660\n",
       "dtype: int64"
      ]
     },
     "execution_count": 62,
     "metadata": {},
     "output_type": "execute_result"
    }
   ],
   "source": [
    "data.nunique()"
   ]
  },
  {
   "cell_type": "code",
   "execution_count": 63,
   "id": "6cde8410",
   "metadata": {},
   "outputs": [
    {
     "data": {
      "text/html": [
       "<div>\n",
       "<style scoped>\n",
       "    .dataframe tbody tr th:only-of-type {\n",
       "        vertical-align: middle;\n",
       "    }\n",
       "\n",
       "    .dataframe tbody tr th {\n",
       "        vertical-align: top;\n",
       "    }\n",
       "\n",
       "    .dataframe thead th {\n",
       "        text-align: right;\n",
       "    }\n",
       "</style>\n",
       "<table border=\"1\" class=\"dataframe\">\n",
       "  <thead>\n",
       "    <tr style=\"text-align: right;\">\n",
       "      <th></th>\n",
       "      <th>Total Donations In 1 Month</th>\n",
       "      <th>Total Donations In 3 Months</th>\n",
       "    </tr>\n",
       "  </thead>\n",
       "  <tbody>\n",
       "    <tr>\n",
       "      <th>0</th>\n",
       "      <td>0.00</td>\n",
       "      <td>0.00</td>\n",
       "    </tr>\n",
       "    <tr>\n",
       "      <th>1</th>\n",
       "      <td>100.00</td>\n",
       "      <td>100.00</td>\n",
       "    </tr>\n",
       "    <tr>\n",
       "      <th>2</th>\n",
       "      <td>0.00</td>\n",
       "      <td>0.00</td>\n",
       "    </tr>\n",
       "    <tr>\n",
       "      <th>6</th>\n",
       "      <td>76.79</td>\n",
       "      <td>76.79</td>\n",
       "    </tr>\n",
       "    <tr>\n",
       "      <th>46</th>\n",
       "      <td>0.00</td>\n",
       "      <td>25.00</td>\n",
       "    </tr>\n",
       "    <tr>\n",
       "      <th>...</th>\n",
       "      <td>...</td>\n",
       "      <td>...</td>\n",
       "    </tr>\n",
       "    <tr>\n",
       "      <th>4433026</th>\n",
       "      <td>0.00</td>\n",
       "      <td>0.00</td>\n",
       "    </tr>\n",
       "    <tr>\n",
       "      <th>4433027</th>\n",
       "      <td>0.00</td>\n",
       "      <td>751.75</td>\n",
       "    </tr>\n",
       "    <tr>\n",
       "      <th>4433028</th>\n",
       "      <td>0.00</td>\n",
       "      <td>0.00</td>\n",
       "    </tr>\n",
       "    <tr>\n",
       "      <th>4433029</th>\n",
       "      <td>262.89</td>\n",
       "      <td>262.89</td>\n",
       "    </tr>\n",
       "    <tr>\n",
       "      <th>4433031</th>\n",
       "      <td>160.00</td>\n",
       "      <td>298.26</td>\n",
       "    </tr>\n",
       "  </tbody>\n",
       "</table>\n",
       "<p>915954 rows × 2 columns</p>\n",
       "</div>"
      ],
      "text/plain": [
       "         Total Donations In 1 Month  Total Donations In 3 Months\n",
       "0                              0.00                         0.00\n",
       "1                            100.00                       100.00\n",
       "2                              0.00                         0.00\n",
       "6                             76.79                        76.79\n",
       "46                             0.00                        25.00\n",
       "...                             ...                          ...\n",
       "4433026                        0.00                         0.00\n",
       "4433027                        0.00                       751.75\n",
       "4433028                        0.00                         0.00\n",
       "4433029                      262.89                       262.89\n",
       "4433031                      160.00                       298.26\n",
       "\n",
       "[915954 rows x 2 columns]"
      ]
     },
     "execution_count": 63,
     "metadata": {},
     "output_type": "execute_result"
    }
   ],
   "source": [
    "data[['Total Donations In 1 Month', 'Total Donations In 3 Months']]"
   ]
  },
  {
   "cell_type": "code",
   "execution_count": 64,
   "id": "02a23f77",
   "metadata": {},
   "outputs": [],
   "source": [
    "data[\"Fund Ratio 1 month\"] = np.where(\n",
    "        data[\"Project Cost\"] > 0,\n",
    "        np.round(data['Total Donations In 1 Month'] / data[\"Project Cost\"], decimals=2), 1\n",
    ")\n",
    "data[\"Fund Ratio 3 months\"] = np.where(\n",
    "        data[\"Project Cost\"] > 0,\n",
    "        np.round(data['Total Donations In 3 Months'] / data[\"Project Cost\"], decimals=2), 1\n",
    ")"
   ]
  },
  {
   "cell_type": "code",
   "execution_count": 75,
   "id": "05bd303c",
   "metadata": {},
   "outputs": [
    {
     "data": {
      "text/plain": [
       "Project ID                          49891\n",
       "School ID                           49891\n",
       "Teacher ID                          49891\n",
       "Teacher Project Posted Sequence     49891\n",
       "Project Type                        49891\n",
       "Project Subject Category Tree       49890\n",
       "Project Subject Subcategory Tree    49890\n",
       "Project Grade Level Category        49891\n",
       "Project Resource Category           49890\n",
       "Project Cost                        49891\n",
       "Project Posted Date                 49891\n",
       "Project Expiration Date             49891\n",
       "Project Fully Funded Date           49891\n",
       "Donation ID                         49891\n",
       "Donation Amount                     49891\n",
       "Donation Received Date              49891\n",
       "Posted Date to Donation Date        49891\n",
       "Donation in first month_x           49891\n",
       "Donation in three months_x          49891\n",
       "Total Donations In 1 Month          49891\n",
       "Total Donations In 3 Months         49891\n",
       "Fund Ratio 1 month                  49891\n",
       "Fund Ratio 3 months                 49891\n",
       "dtype: int64"
      ]
     },
     "execution_count": 75,
     "metadata": {},
     "output_type": "execute_result"
    }
   ],
   "source": [
    "data[data[\"Fund Ratio 1 month\"] >= 0.95].count()"
   ]
  },
  {
   "cell_type": "code",
   "execution_count": 76,
   "id": "79c0a405",
   "metadata": {},
   "outputs": [
    {
     "data": {
      "text/plain": [
       "Project ID                          571823\n",
       "School ID                           571823\n",
       "Teacher ID                          571823\n",
       "Teacher Project Posted Sequence     571823\n",
       "Project Type                        571823\n",
       "Project Subject Category Tree       571812\n",
       "Project Subject Subcategory Tree    571812\n",
       "Project Grade Level Category        571823\n",
       "Project Resource Category           571806\n",
       "Project Cost                        571823\n",
       "Project Posted Date                 571823\n",
       "Project Expiration Date             571822\n",
       "Project Fully Funded Date           527725\n",
       "Donation ID                         571823\n",
       "Donation Amount                     571823\n",
       "Donation Received Date              571823\n",
       "Posted Date to Donation Date        571823\n",
       "Donation in first month_x           571823\n",
       "Donation in three months_x          571823\n",
       "Total Donations In 1 Month          571823\n",
       "Total Donations In 3 Months         571823\n",
       "Fund Ratio 1 month                  571823\n",
       "Fund Ratio 3 months                 571823\n",
       "dtype: int64"
      ]
     },
     "execution_count": 76,
     "metadata": {},
     "output_type": "execute_result"
    }
   ],
   "source": [
    "data[data[\"Fund Ratio 3 months\"] >= 0.1].count()"
   ]
  },
  {
   "cell_type": "code",
   "execution_count": null,
   "id": "aa9e451f",
   "metadata": {},
   "outputs": [],
   "source": [
    "data.count()\n",
    "label 1 - \n",
    "label 0 - "
   ]
  },
  {
   "cell_type": "code",
   "execution_count": null,
   "id": "79eff97f",
   "metadata": {},
   "outputs": [],
   "source": [
    "data[\"Donation Propotion\"] = np.where(data['Fund Ratio 3 months'] > 0, \n",
    "                                      np.round(data['Fund Ratio 1 month']/ data['Fund Ratio 3 months'], decimals=2),\n",
    "                                      -1)"
   ]
  },
  {
   "cell_type": "code",
   "execution_count": null,
   "id": "e24978b6",
   "metadata": {},
   "outputs": [],
   "source": [
    "data[['Project ID', 'Total Donations In 1 Month', 'Total Donations In 3 Months', 'Fund Ratio 1 month', 'Fund Ratio 3 months', \"Donation Propotion\"]]"
   ]
  },
  {
   "cell_type": "code",
   "execution_count": null,
   "id": "22e278ff",
   "metadata": {},
   "outputs": [],
   "source": [
    "data[\"Donation Propotion\"].value_counts()"
   ]
  },
  {
   "cell_type": "code",
   "execution_count": null,
   "id": "d7e7c96c",
   "metadata": {},
   "outputs": [],
   "source": [
    "data[\"Donation Propotion\"].plot(x=\"Donation Propotion\", kind=\"kde\")"
   ]
  },
  {
   "cell_type": "code",
   "execution_count": null,
   "id": "d43da8f5",
   "metadata": {},
   "outputs": [],
   "source": [
    "data[\"Not Fully Funded in 3 Months\"] = data.apply(lambda x: 1 if x[\"Fund Ratio 3 months\"] < 1 else 0, axis=1)"
   ]
  },
  {
   "cell_type": "code",
   "execution_count": null,
   "id": "845e5be4",
   "metadata": {},
   "outputs": [],
   "source": [
    "data[\"Not Fully Funded in 1 Month Ratio\"] = data[\"Not Fully Funded in 3 Months\"] * data['Fund Ratio 1 month']"
   ]
  },
  {
   "cell_type": "code",
   "execution_count": null,
   "id": "4a058c3c",
   "metadata": {},
   "outputs": [],
   "source": [
    "data[\"Not Fully Funded in 1 Month Ratio\"].value_counts()"
   ]
  },
  {
   "cell_type": "code",
   "execution_count": null,
   "id": "7e3abd2a",
   "metadata": {},
   "outputs": [],
   "source": [
    "data[\"Not Fully Funded in 1 Month Ratio\"].mean()"
   ]
  },
  {
   "cell_type": "code",
   "execution_count": null,
   "id": "b779bab4",
   "metadata": {},
   "outputs": [],
   "source": [
    "data.plot(x = \"Project Posted Date\", y = ['Fund Ratio 1 month', 'Fund Ratio 3 months'])"
   ]
  },
  {
   "cell_type": "code",
   "execution_count": null,
   "id": "cb343a03",
   "metadata": {
    "scrolled": true
   },
   "outputs": [],
   "source": [
    "# data = project_donations_donors[project_donations_donors[\"Posted Date to Donation Date\"] < DONATION_PERIOD]"
   ]
  },
  {
   "cell_type": "code",
   "execution_count": null,
   "id": "705cd1d9",
   "metadata": {
    "scrolled": true
   },
   "outputs": [],
   "source": [
    "# # data.sort_values(by=\"Posted Date to Donation Date\", inplace=True)\n",
    "# project | don id | post-don days\n",
    "# adsd        213     12\n",
    "# sdae        222     32      0       1    \n",
    "# sdas        223     23      400     0\n",
    "# sdas        224     14      400     0\n"
   ]
  },
  {
   "cell_type": "code",
   "execution_count": null,
   "id": "9af75f10",
   "metadata": {
    "scrolled": true
   },
   "outputs": [],
   "source": [
    "data[data[\"Posted Date to Donation Date\"] < 0].count()"
   ]
  },
  {
   "cell_type": "code",
   "execution_count": null,
   "id": "364111be",
   "metadata": {
    "scrolled": true
   },
   "outputs": [],
   "source": [
    "data.count()"
   ]
  },
  {
   "cell_type": "code",
   "execution_count": null,
   "id": "b7c1f1c7",
   "metadata": {
    "scrolled": true
   },
   "outputs": [],
   "source": [
    "data[\"Fund Ratio\"] = np.where(\n",
    "        data[\"Project Cost\"] > 0,\n",
    "        data[\"Total Donations In The Period\"] / data[\"Project Cost\"], 1\n",
    ")"
   ]
  },
  {
   "cell_type": "code",
   "execution_count": null,
   "id": "a5b10352",
   "metadata": {},
   "outputs": [],
   "source": [
    "data[\"Fund Ratio\"].max()"
   ]
  },
  {
   "cell_type": "code",
   "execution_count": null,
   "id": "3887a710",
   "metadata": {},
   "outputs": [],
   "source": [
    "data[data[\"Fund Ratio\"]<0.6].nunique()"
   ]
  },
  {
   "cell_type": "code",
   "execution_count": null,
   "id": "2e1579d3",
   "metadata": {},
   "outputs": [],
   "source": [
    "data[\"Fund Ratio\"].mean()"
   ]
  },
  {
   "cell_type": "code",
   "execution_count": null,
   "id": "376df7cc",
   "metadata": {},
   "outputs": [],
   "source": [
    "data[\"Fund Ratio\"].plot(kind='kde')"
   ]
  },
  {
   "cell_type": "code",
   "execution_count": null,
   "id": "2d882726",
   "metadata": {
    "scrolled": true
   },
   "outputs": [],
   "source": [
    "data = data.drop([\"Donation ID\", \"Donation Amount_x\", \"Donation Received Date\", \"Total Donations In The Period\"], axis=1)"
   ]
  },
  {
   "cell_type": "code",
   "execution_count": null,
   "id": "e09af0a3",
   "metadata": {},
   "outputs": [],
   "source": [
    "data.nunique()"
   ]
  },
  {
   "cell_type": "code",
   "execution_count": null,
   "id": "4a5976d9",
   "metadata": {
    "scrolled": true
   },
   "outputs": [],
   "source": [
    "data.drop_duplicates(subset=\"Project ID\", keep=\"first\", inplace=True)"
   ]
  },
  {
   "cell_type": "code",
   "execution_count": null,
   "id": "6ade705f",
   "metadata": {
    "scrolled": true
   },
   "outputs": [],
   "source": [
    "data.count()"
   ]
  },
  {
   "cell_type": "code",
   "execution_count": null,
   "id": "e17324ca",
   "metadata": {},
   "outputs": [],
   "source": [
    "data.nunique()"
   ]
  },
  {
   "cell_type": "code",
   "execution_count": null,
   "id": "87c29c9f",
   "metadata": {
    "scrolled": true
   },
   "outputs": [],
   "source": [
    "# \"Not get funded\" is 1\n",
    "data[\"Label\"] = data.apply(lambda x: 1 if x['Fund Ratio 1 month'] < 0.2 else 0, axis=1)"
   ]
  },
  {
   "cell_type": "code",
   "execution_count": null,
   "id": "95b30a91",
   "metadata": {
    "scrolled": true
   },
   "outputs": [],
   "source": [
    "data[\"Label\"].value_counts()"
   ]
  },
  {
   "cell_type": "code",
   "execution_count": null,
   "id": "01de5d1d",
   "metadata": {},
   "outputs": [],
   "source": [
    "pos_perc = data[\"Label\"].value_counts()"
   ]
  },
  {
   "cell_type": "code",
   "execution_count": null,
   "id": "3353eb30",
   "metadata": {
    "scrolled": true
   },
   "outputs": [],
   "source": [
    "data_test = data[[\"Fund Ratio\", \"Label\", \"Project Fully Funded Date\"]]\n",
    "data_test = data_test[(data_test[\"Label\"] == 1) & (data_test[\"Project Fully Funded Date\"].notna())]\n",
    "# data_test \n",
    "# really_not_funded = 69954\n",
    "# really_funded = 271188\n"
   ]
  },
  {
   "cell_type": "code",
   "execution_count": null,
   "id": "1f770a86",
   "metadata": {
    "scrolled": true
   },
   "outputs": [],
   "source": [
    "labelled_data_p_d_d = data.drop([\"Project Fully Funded Date\", \"Posted Date to Donation Date\", \"Fund Ratio\"], axis=1)"
   ]
  },
  {
   "cell_type": "code",
   "execution_count": null,
   "id": "3d6b25f1",
   "metadata": {
    "scrolled": true
   },
   "outputs": [],
   "source": [
    "labelled_data_p_d_d.shape"
   ]
  },
  {
   "cell_type": "code",
   "execution_count": null,
   "id": "ec057444",
   "metadata": {
    "scrolled": true
   },
   "outputs": [],
   "source": [
    "teachers = pd.read_csv(path+\"/Teachers.csv\")"
   ]
  },
  {
   "cell_type": "code",
   "execution_count": null,
   "id": "a5dea6f1",
   "metadata": {
    "scrolled": true
   },
   "outputs": [],
   "source": [
    "teachers.count()"
   ]
  },
  {
   "cell_type": "code",
   "execution_count": null,
   "id": "46682de1",
   "metadata": {
    "scrolled": true
   },
   "outputs": [],
   "source": [
    "labelled_data_p_d_d_t = labelled_data_p_d_d.merge(teachers, on=\"Teacher ID\", how=\"left\")"
   ]
  },
  {
   "cell_type": "code",
   "execution_count": null,
   "id": "6f5d48be",
   "metadata": {
    "scrolled": true
   },
   "outputs": [],
   "source": [
    "schools = pd.read_csv(path+\"/Schools.csv\")"
   ]
  },
  {
   "cell_type": "code",
   "execution_count": null,
   "id": "ca51906e",
   "metadata": {
    "scrolled": true
   },
   "outputs": [],
   "source": [
    "schools.count()"
   ]
  },
  {
   "cell_type": "code",
   "execution_count": null,
   "id": "d8bbe772",
   "metadata": {
    "scrolled": true
   },
   "outputs": [],
   "source": [
    "schools.head()"
   ]
  },
  {
   "cell_type": "code",
   "execution_count": null,
   "id": "0bd7b17f",
   "metadata": {
    "scrolled": true
   },
   "outputs": [],
   "source": [
    "labelled_data_p_d_d_t_s = labelled_data_p_d_d_t.merge(schools, on=\"School ID\", how=\"left\").drop([\"School Zip\"], axis=1)"
   ]
  },
  {
   "cell_type": "code",
   "execution_count": null,
   "id": "e306f246",
   "metadata": {
    "scrolled": true
   },
   "outputs": [],
   "source": [
    "labelled_data_p_d_d_t_s.count()"
   ]
  },
  {
   "cell_type": "code",
   "execution_count": null,
   "id": "0b7c076b",
   "metadata": {
    "scrolled": true
   },
   "outputs": [],
   "source": [
    "resources = pd.read_csv(path+\"/Resources.csv\")"
   ]
  },
  {
   "cell_type": "code",
   "execution_count": null,
   "id": "3bdf1d37",
   "metadata": {
    "scrolled": true
   },
   "outputs": [],
   "source": [
    "resources.shape"
   ]
  },
  {
   "cell_type": "code",
   "execution_count": null,
   "id": "b039afd0",
   "metadata": {
    "scrolled": true
   },
   "outputs": [],
   "source": [
    "resources.nunique()"
   ]
  },
  {
   "cell_type": "code",
   "execution_count": null,
   "id": "232a26a0",
   "metadata": {
    "scrolled": true
   },
   "outputs": [],
   "source": [
    "labelled_data_p_d_d_t_s_r = labelled_data_p_d_d_t_s.merge(resources, on=\"Project ID\", how=\"left\")"
   ]
  },
  {
   "cell_type": "code",
   "execution_count": null,
   "id": "05d918e5",
   "metadata": {
    "scrolled": true
   },
   "outputs": [],
   "source": [
    "labelled_data_p_d_d_t_s_r.shape"
   ]
  },
  {
   "cell_type": "code",
   "execution_count": null,
   "id": "264e16bc",
   "metadata": {
    "scrolled": true
   },
   "outputs": [],
   "source": [
    "labelled_data_p_d_d_t_s_r.nunique()"
   ]
  },
  {
   "cell_type": "code",
   "execution_count": null,
   "id": "bbc5a998",
   "metadata": {
    "scrolled": true
   },
   "outputs": [],
   "source": [
    "labelled_data_p_d_d_t_s_r = labelled_data_p_d_d_t_s_r.drop([\"Resource Item Name\", \"Resource Quantity\", \"Resource Unit Price\"], axis=1)"
   ]
  },
  {
   "cell_type": "code",
   "execution_count": null,
   "id": "9b7b348d",
   "metadata": {
    "scrolled": true
   },
   "outputs": [],
   "source": [
    "labelled_data_p_d_d_t_s[labelled_data_p_d_d_t_s[\"Project ID\"] == \"b2304d2fed2cdb4aecea50c1e35171b4\"]"
   ]
  },
  {
   "cell_type": "code",
   "execution_count": null,
   "id": "79a32deb",
   "metadata": {
    "scrolled": true
   },
   "outputs": [],
   "source": [
    "labelled_data_p_d_d_t_s_r = labelled_data_p_d_d_t_s_r.drop_duplicates(subset=[\"Project ID\"])"
   ]
  },
  {
   "cell_type": "code",
   "execution_count": null,
   "id": "ce8ec82d",
   "metadata": {
    "scrolled": true
   },
   "outputs": [],
   "source": [
    "labelled_data_p_d_d_t_s_r.nunique()"
   ]
  },
  {
   "cell_type": "markdown",
   "id": "ab62c1b1",
   "metadata": {},
   "source": [
    "labelled_data_p_d_d_t_s_r shoud be the final data df"
   ]
  },
  {
   "cell_type": "code",
   "execution_count": null,
   "id": "d8f6527c",
   "metadata": {
    "scrolled": true
   },
   "outputs": [],
   "source": [
    "# labelled_data_p_d_d_t_s_r = labelled_data_p_d_d_t_s_r.sort_values(by=[\"Project Posted Date\"])"
   ]
  },
  {
   "cell_type": "code",
   "execution_count": null,
   "id": "cbb89dca",
   "metadata": {
    "scrolled": true
   },
   "outputs": [],
   "source": [
    "labelled_data_p_d_d_t_s_r.head()"
   ]
  },
  {
   "cell_type": "code",
   "execution_count": null,
   "id": "f55ed208",
   "metadata": {
    "scrolled": true
   },
   "outputs": [],
   "source": [
    "labelled_data_p_d_d_t_s_r.count()"
   ]
  },
  {
   "cell_type": "code",
   "execution_count": null,
   "id": "65f99698",
   "metadata": {
    "scrolled": true
   },
   "outputs": [],
   "source": [
    "labelled_data_p_d_d_t_s_r = labelled_data_p_d_d_t_s_r.drop_duplicates(subset=[\"Project ID\"])"
   ]
  },
  {
   "cell_type": "code",
   "execution_count": null,
   "id": "aec78c91",
   "metadata": {
    "scrolled": true
   },
   "outputs": [],
   "source": [
    "labelled_data_p_d_d_t_s_r.count()"
   ]
  },
  {
   "cell_type": "code",
   "execution_count": null,
   "id": "af2607d7",
   "metadata": {
    "scrolled": true
   },
   "outputs": [],
   "source": [
    "labelled_data_p_d_d_t_s_r.nunique()"
   ]
  },
  {
   "cell_type": "code",
   "execution_count": null,
   "id": "748c1dc6",
   "metadata": {
    "scrolled": true
   },
   "outputs": [],
   "source": [
    "labelled_data_p_d_d_t_s_r = labelled_data_p_d_d_t_s_r.sample(frac = 1)"
   ]
  },
  {
   "cell_type": "code",
   "execution_count": null,
   "id": "87cd337f",
   "metadata": {
    "scrolled": true
   },
   "outputs": [],
   "source": [
    "labelled_data_p_d_d_t_s_r.to_csv(path+\"/Dataset.csv\", index=False)"
   ]
  },
  {
   "cell_type": "code",
   "execution_count": null,
   "id": "f033b012",
   "metadata": {
    "scrolled": true
   },
   "outputs": [],
   "source": [
    "labelled_data_p_d_d_t_s_r.iloc[99:150][\"Project Posted Date\"]"
   ]
  }
 ],
 "metadata": {
  "kernelspec": {
   "display_name": "Python 3 (ipykernel)",
   "language": "python",
   "name": "python3"
  },
  "language_info": {
   "codemirror_mode": {
    "name": "ipython",
    "version": 3
   },
   "file_extension": ".py",
   "mimetype": "text/x-python",
   "name": "python",
   "nbconvert_exporter": "python",
   "pygments_lexer": "ipython3",
   "version": "3.10.9"
  }
 },
 "nbformat": 4,
 "nbformat_minor": 5
}
